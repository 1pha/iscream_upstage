{
 "cells": [
  {
   "cell_type": "code",
   "execution_count": 1,
   "metadata": {
    "ExecuteTime": {
     "end_time": "2021-02-10T06:51:37.684786Z",
     "start_time": "2021-02-10T06:51:36.306787Z"
    }
   },
   "outputs": [],
   "source": [
    "import json\n",
    "from collections import Counter\n",
    "import matplotlib as mpl\n",
    "import matplotlib.pyplot as plt\n",
    "\n",
    "import numpy as np\n",
    "import pandas as pd"
   ]
  },
  {
   "cell_type": "markdown",
   "metadata": {},
   "source": [
    "# Load Data"
   ]
  },
  {
   "cell_type": "code",
   "execution_count": 2,
   "metadata": {
    "ExecuteTime": {
     "end_time": "2021-02-10T06:51:37.700786Z",
     "start_time": "2021-02-10T06:51:37.691787Z"
    }
   },
   "outputs": [],
   "source": [
    "def load_iscream(fpath='iscream_public_edu_v3.txt'):\n",
    "    \n",
    "    with open(fpath, 'r') as f:\n",
    "        lines = f.readlines()\n",
    "        \n",
    "    lines = [json.loads(line.strip().replace(\"'\",\"\\\"\")) for line in lines]\n",
    "    \n",
    "    df = pd.DataFrame(columns=lines[0].keys())\n",
    "    for user in lines:\n",
    "        df = df.append(pd.Series(user), ignore_index=True)\n",
    "        \n",
    "    return df"
   ]
  },
  {
   "cell_type": "code",
   "execution_count": 3,
   "metadata": {
    "ExecuteTime": {
     "end_time": "2021-02-10T06:51:58.061855Z",
     "start_time": "2021-02-10T06:51:37.702788Z"
    }
   },
   "outputs": [
    {
     "name": "stdout",
     "output_type": "stream",
     "text": [
      "Wall time: 17.6 s\n"
     ]
    }
   ],
   "source": [
    "%%time\n",
    "df = load_iscream()"
   ]
  },
  {
   "cell_type": "markdown",
   "metadata": {
    "ExecuteTime": {
     "end_time": "2021-02-08T06:35:13.941351Z",
     "start_time": "2021-02-08T06:35:13.872844Z"
    }
   },
   "source": [
    "# Sanity Check\n",
    "4개의 column들이 모두 같은 길이를 가지는 지 확인"
   ]
  },
  {
   "cell_type": "code",
   "execution_count": 4,
   "metadata": {
    "ExecuteTime": {
     "end_time": "2021-02-10T06:51:58.140855Z",
     "start_time": "2021-02-10T06:51:58.062855Z"
    }
   },
   "outputs": [
    {
     "data": {
      "text/html": [
       "<div>\n",
       "<style scoped>\n",
       "    .dataframe tbody tr th:only-of-type {\n",
       "        vertical-align: middle;\n",
       "    }\n",
       "\n",
       "    .dataframe tbody tr th {\n",
       "        vertical-align: top;\n",
       "    }\n",
       "\n",
       "    .dataframe thead th {\n",
       "        text-align: right;\n",
       "    }\n",
       "</style>\n",
       "<table border=\"1\" class=\"dataframe\">\n",
       "  <thead>\n",
       "    <tr style=\"text-align: right;\">\n",
       "      <th></th>\n",
       "      <th>assessmentItemID</th>\n",
       "      <th>testId</th>\n",
       "      <th>answerCode</th>\n",
       "      <th>Timestamp</th>\n",
       "    </tr>\n",
       "  </thead>\n",
       "  <tbody>\n",
       "  </tbody>\n",
       "</table>\n",
       "</div>"
      ],
      "text/plain": [
       "Empty DataFrame\n",
       "Columns: [assessmentItemID, testId, answerCode, Timestamp]\n",
       "Index: []"
      ]
     },
     "execution_count": 4,
     "metadata": {},
     "output_type": "execute_result"
    }
   ],
   "source": [
    "def check_sanity(line):\n",
    "    return True if len(set(len(_) for _ in line)) > 1 else False\n",
    "\n",
    "sanity_condition = df.apply(check_sanity, axis=1)\n",
    "df[sanity_condition]"
   ]
  },
  {
   "cell_type": "markdown",
   "metadata": {},
   "source": [
    "# Item Number Check"
   ]
  },
  {
   "cell_type": "markdown",
   "metadata": {},
   "source": [
    "고유아이템 개수와 번호 이빨빠진 것 확인"
   ]
  },
  {
   "cell_type": "code",
   "execution_count": 5,
   "metadata": {
    "ExecuteTime": {
     "end_time": "2021-02-10T06:51:58.156854Z",
     "start_time": "2021-02-10T06:51:58.143856Z"
    }
   },
   "outputs": [],
   "source": [
    "from itertools import chain"
   ]
  },
  {
   "cell_type": "code",
   "execution_count": 6,
   "metadata": {
    "ExecuteTime": {
     "end_time": "2021-02-10T06:51:58.395856Z",
     "start_time": "2021-02-10T06:51:58.160855Z"
    }
   },
   "outputs": [],
   "source": [
    "item_ids = list(chain(*df['assessmentItemID'].values))\n",
    "test_ids = list(chain(*df['testId'].values))"
   ]
  },
  {
   "cell_type": "markdown",
   "metadata": {},
   "source": [
    "## Assessment Item ID - 문제 체크"
   ]
  },
  {
   "cell_type": "code",
   "execution_count": 7,
   "metadata": {
    "ExecuteTime": {
     "end_time": "2021-02-10T06:51:58.459856Z",
     "start_time": "2021-02-10T06:51:58.397854Z"
    }
   },
   "outputs": [
    {
     "name": "stdout",
     "output_type": "stream",
     "text": [
      "\n",
      "총 Interaction 수: 2526700\n",
      "고유 assessmentItemID수: 9454\n",
      "\n"
     ]
    }
   ],
   "source": [
    "info = f'''\n",
    "총 Interaction 수: {len(item_ids)}\n",
    "고유 assessmentItemID수: {len(set(item_ids))}\n",
    "'''\n",
    "print(info)"
   ]
  },
  {
   "cell_type": "markdown",
   "metadata": {},
   "source": [
    "**보고 받았던 Interaction 수가 153만 건**인 것과 비교하면 상당히 많은 수네요.   \n",
    "또한 문항의 경우 **고유 문항이 6,631건인 것과 비교해도 고유 문항 수가 9,454건**으로 많네요.   \n",
    "데이터에 대한 정확한 정보가 빨리 넘어왔으면 하는 바람입니다..."
   ]
  },
  {
   "cell_type": "code",
   "execution_count": 8,
   "metadata": {
    "ExecuteTime": {
     "end_time": "2021-02-10T06:51:58.744856Z",
     "start_time": "2021-02-10T06:51:58.461855Z"
    }
   },
   "outputs": [
    {
     "data": {
      "text/plain": [
       "(9453, 9454)"
      ]
     },
     "execution_count": 8,
     "metadata": {},
     "output_type": "execute_result"
    }
   ],
   "source": [
    "item_ids.sort()\n",
    "item_ids[-1], len(set(item_ids))"
   ]
  },
  {
   "cell_type": "markdown",
   "metadata": {},
   "source": [
    "이빨 빠진 것 없이 0부터 9453번까지 있네요."
   ]
  },
  {
   "cell_type": "markdown",
   "metadata": {},
   "source": [
    "## Test ID - 시험지 체크"
   ]
  },
  {
   "cell_type": "code",
   "execution_count": 9,
   "metadata": {
    "ExecuteTime": {
     "end_time": "2021-02-10T06:51:58.808856Z",
     "start_time": "2021-02-10T06:51:58.745856Z"
    }
   },
   "outputs": [
    {
     "name": "stdout",
     "output_type": "stream",
     "text": [
      "\n",
      "총 Interaction 수: 2526700\n",
      "고유 TestID(시험지): 1537\n",
      "\n"
     ]
    }
   ],
   "source": [
    "info = f'''\n",
    "총 Interaction 수: {len(test_ids)}\n",
    "고유 TestID(시험지): {len(set(test_ids))}\n",
    "'''\n",
    "print(info)"
   ]
  },
  {
   "cell_type": "markdown",
   "metadata": {},
   "source": [
    "**보고 받았던 고유 시험지의 수는 1,165개**로,   \n",
    "실제 데이터 안에 들어간 고유 시험지의 수인 1,537개와 비교하면 많이 다르네요"
   ]
  },
  {
   "cell_type": "code",
   "execution_count": 10,
   "metadata": {
    "ExecuteTime": {
     "end_time": "2021-02-10T06:51:59.028853Z",
     "start_time": "2021-02-10T06:51:58.810858Z"
    }
   },
   "outputs": [
    {
     "data": {
      "text/plain": [
       "(1536, 1537)"
      ]
     },
     "execution_count": 10,
     "metadata": {},
     "output_type": "execute_result"
    }
   ],
   "source": [
    "test_ids.sort()\n",
    "test_ids[-1], len(set(test_ids))"
   ]
  },
  {
   "cell_type": "markdown",
   "metadata": {},
   "source": [
    "이빨 빠진 것 없이 0부터 1536번까지 있네요."
   ]
  },
  {
   "cell_type": "markdown",
   "metadata": {},
   "source": [
    "## 순서 정렬 체크"
   ]
  },
  {
   "cell_type": "markdown",
   "metadata": {},
   "source": [
    "구글 드라이브에 올라온 설명서에 보면 Interaction의 순서가 시간 순서가 **아닐 수** 있다라고 써있더군요. 등골이 서늘합니다. 실제로 체크해보니"
   ]
  },
  {
   "cell_type": "code",
   "execution_count": 11,
   "metadata": {
    "ExecuteTime": {
     "end_time": "2021-02-10T06:51:59.043855Z",
     "start_time": "2021-02-10T06:51:59.029855Z"
    }
   },
   "outputs": [],
   "source": [
    "from datetime import datetime"
   ]
  },
  {
   "cell_type": "code",
   "execution_count": 12,
   "metadata": {
    "ExecuteTime": {
     "end_time": "2021-02-10T06:52:00.198891Z",
     "start_time": "2021-02-10T06:51:59.045857Z"
    }
   },
   "outputs": [],
   "source": [
    "df['Timestamp'] = df['Timestamp'].apply(lambda x: list(datetime.fromtimestamp(_) for _ in x))"
   ]
  },
  {
   "cell_type": "code",
   "execution_count": 13,
   "metadata": {
    "ExecuteTime": {
     "end_time": "2021-02-10T06:52:00.214892Z",
     "start_time": "2021-02-10T06:52:00.200894Z"
    }
   },
   "outputs": [
    {
     "data": {
      "text/plain": [
       "False"
      ]
     },
     "execution_count": 13,
     "metadata": {},
     "output_type": "execute_result"
    }
   ],
   "source": [
    "sorted(df.loc[0, 'Timestamp']) == df.loc[0, 'Timestamp']"
   ]
  },
  {
   "cell_type": "markdown",
   "metadata": {},
   "source": [
    "네, 다르네요. 그러면 어떤 기준으로 정렬되어있는지는..."
   ]
  },
  {
   "cell_type": "code",
   "execution_count": 14,
   "metadata": {
    "ExecuteTime": {
     "end_time": "2021-02-10T06:52:00.247891Z",
     "start_time": "2021-02-10T06:52:00.216893Z"
    }
   },
   "outputs": [
    {
     "data": {
      "text/html": [
       "<div>\n",
       "<style scoped>\n",
       "    .dataframe tbody tr th:only-of-type {\n",
       "        vertical-align: middle;\n",
       "    }\n",
       "\n",
       "    .dataframe tbody tr th {\n",
       "        vertical-align: top;\n",
       "    }\n",
       "\n",
       "    .dataframe thead th {\n",
       "        text-align: right;\n",
       "    }\n",
       "</style>\n",
       "<table border=\"1\" class=\"dataframe\">\n",
       "  <thead>\n",
       "    <tr style=\"text-align: right;\">\n",
       "      <th></th>\n",
       "      <th>assessmentItemID</th>\n",
       "      <th>testId</th>\n",
       "      <th>answerCode</th>\n",
       "      <th>Timestamp</th>\n",
       "    </tr>\n",
       "  </thead>\n",
       "  <tbody>\n",
       "    <tr>\n",
       "      <th>0</th>\n",
       "      <td>[30, 31, 32, 33, 34, 40, 41, 42, 43, 44, 60, 6...</td>\n",
       "      <td>[6, 6, 6, 6, 6, 8, 8, 8, 8, 8, 12, 12, 12, 12,...</td>\n",
       "      <td>[1, 1, 1, 1, 1, 1, 1, 1, 1, 1, 1, 1, 1, 0, 1, ...</td>\n",
       "      <td>[2020-03-10 07:09:34, 2020-03-10 07:12:57, 202...</td>\n",
       "    </tr>\n",
       "    <tr>\n",
       "      <th>1</th>\n",
       "      <td>[40, 41, 42, 43, 44, 50, 51, 52, 53, 54, 60, 6...</td>\n",
       "      <td>[8, 8, 8, 8, 8, 10, 10, 10, 10, 10, 12, 12, 12...</td>\n",
       "      <td>[1, 0, 1, 1, 1, 0, 1, 1, 1, 1, 1, 1, 1, 1, 1, ...</td>\n",
       "      <td>[2020-03-05 08:33:48, 2020-03-05 08:34:23, 202...</td>\n",
       "    </tr>\n",
       "    <tr>\n",
       "      <th>2</th>\n",
       "      <td>[3611, 3612, 3613, 3614, 3615, 3616, 3594, 359...</td>\n",
       "      <td>[690, 690, 690, 690, 690, 690, 687, 687, 687, ...</td>\n",
       "      <td>[1, 0, 0, 0, 1, 0, 1, 0, 1, 0, 0, 1, 1, 1, 0, ...</td>\n",
       "      <td>[2020-08-08 05:49:05, 2020-08-08 05:53:55, 202...</td>\n",
       "    </tr>\n",
       "    <tr>\n",
       "      <th>3</th>\n",
       "      <td>[3567, 3568, 3569, 3570, 3571, 3572, 3583, 358...</td>\n",
       "      <td>[682, 682, 682, 682, 682, 682, 685, 685, 685, ...</td>\n",
       "      <td>[1, 1, 1, 0, 0, 1, 1, 1, 0, 1, 1, 1, 1, 1, 1, ...</td>\n",
       "      <td>[2020-05-26 07:54:27, 2020-05-26 07:55:13, 202...</td>\n",
       "    </tr>\n",
       "    <tr>\n",
       "      <th>4</th>\n",
       "      <td>[3370, 3371, 3372, 3373, 3374, 3375, 3600, 360...</td>\n",
       "      <td>[644, 644, 644, 644, 644, 644, 688, 688, 688, ...</td>\n",
       "      <td>[1, 0, 0, 0, 1, 0, 1, 0, 0, 0, 0, 1, 0, 0, 1, ...</td>\n",
       "      <td>[2020-06-19 05:11:01, 2020-06-19 05:11:27, 202...</td>\n",
       "    </tr>\n",
       "  </tbody>\n",
       "</table>\n",
       "</div>"
      ],
      "text/plain": [
       "                                    assessmentItemID  \\\n",
       "0  [30, 31, 32, 33, 34, 40, 41, 42, 43, 44, 60, 6...   \n",
       "1  [40, 41, 42, 43, 44, 50, 51, 52, 53, 54, 60, 6...   \n",
       "2  [3611, 3612, 3613, 3614, 3615, 3616, 3594, 359...   \n",
       "3  [3567, 3568, 3569, 3570, 3571, 3572, 3583, 358...   \n",
       "4  [3370, 3371, 3372, 3373, 3374, 3375, 3600, 360...   \n",
       "\n",
       "                                              testId  \\\n",
       "0  [6, 6, 6, 6, 6, 8, 8, 8, 8, 8, 12, 12, 12, 12,...   \n",
       "1  [8, 8, 8, 8, 8, 10, 10, 10, 10, 10, 12, 12, 12...   \n",
       "2  [690, 690, 690, 690, 690, 690, 687, 687, 687, ...   \n",
       "3  [682, 682, 682, 682, 682, 682, 685, 685, 685, ...   \n",
       "4  [644, 644, 644, 644, 644, 644, 688, 688, 688, ...   \n",
       "\n",
       "                                          answerCode  \\\n",
       "0  [1, 1, 1, 1, 1, 1, 1, 1, 1, 1, 1, 1, 1, 0, 1, ...   \n",
       "1  [1, 0, 1, 1, 1, 0, 1, 1, 1, 1, 1, 1, 1, 1, 1, ...   \n",
       "2  [1, 0, 0, 0, 1, 0, 1, 0, 1, 0, 0, 1, 1, 1, 0, ...   \n",
       "3  [1, 1, 1, 0, 0, 1, 1, 1, 0, 1, 1, 1, 1, 1, 1, ...   \n",
       "4  [1, 0, 0, 0, 1, 0, 1, 0, 0, 0, 0, 1, 0, 0, 1, ...   \n",
       "\n",
       "                                           Timestamp  \n",
       "0  [2020-03-10 07:09:34, 2020-03-10 07:12:57, 202...  \n",
       "1  [2020-03-05 08:33:48, 2020-03-05 08:34:23, 202...  \n",
       "2  [2020-08-08 05:49:05, 2020-08-08 05:53:55, 202...  \n",
       "3  [2020-05-26 07:54:27, 2020-05-26 07:55:13, 202...  \n",
       "4  [2020-06-19 05:11:01, 2020-06-19 05:11:27, 202...  "
      ]
     },
     "execution_count": 14,
     "metadata": {},
     "output_type": "execute_result"
    }
   ],
   "source": [
    "df.head()"
   ]
  },
  {
   "cell_type": "markdown",
   "metadata": {},
   "source": [
    "언뜻 봐도 시험지 묶음별로 정렬되어 있음을 알 수 있네요."
   ]
  },
  {
   "cell_type": "markdown",
   "metadata": {},
   "source": [
    "timestamp 순서로 나머지 Column도 정리하는 코드"
   ]
  },
  {
   "cell_type": "code",
   "execution_count": 15,
   "metadata": {
    "ExecuteTime": {
     "end_time": "2021-02-10T06:52:00.262891Z",
     "start_time": "2021-02-10T06:52:00.253894Z"
    }
   },
   "outputs": [],
   "source": [
    "def sortby_timestamp(line):\n",
    "    \n",
    "    mask = np.array(line['Timestamp']).argsort()\n",
    "    \n",
    "    line['assessmentItemID'] = [line['assessmentItemID'][i] for i in mask]\n",
    "    line['testId'] = [line['testId'][i] for i in mask]\n",
    "    line['answerCode'] = [line['answerCode'][i] for i in mask]\n",
    "    line['Timestamp'] = [line['Timestamp'][i] for i in mask]\n",
    "        \n",
    "    return line"
   ]
  },
  {
   "cell_type": "code",
   "execution_count": 16,
   "metadata": {
    "ExecuteTime": {
     "end_time": "2021-02-10T06:52:34.523793Z",
     "start_time": "2021-02-10T06:52:00.265892Z"
    }
   },
   "outputs": [
    {
     "name": "stdout",
     "output_type": "stream",
     "text": [
      "Wall time: 32.3 s\n"
     ]
    },
    {
     "data": {
      "text/html": [
       "<div>\n",
       "<style scoped>\n",
       "    .dataframe tbody tr th:only-of-type {\n",
       "        vertical-align: middle;\n",
       "    }\n",
       "\n",
       "    .dataframe tbody tr th {\n",
       "        vertical-align: top;\n",
       "    }\n",
       "\n",
       "    .dataframe thead th {\n",
       "        text-align: right;\n",
       "    }\n",
       "</style>\n",
       "<table border=\"1\" class=\"dataframe\">\n",
       "  <thead>\n",
       "    <tr style=\"text-align: right;\">\n",
       "      <th></th>\n",
       "      <th>assessmentItemID</th>\n",
       "      <th>testId</th>\n",
       "      <th>answerCode</th>\n",
       "      <th>Timestamp</th>\n",
       "    </tr>\n",
       "  </thead>\n",
       "  <tbody>\n",
       "    <tr>\n",
       "      <th>0</th>\n",
       "      <td>[187, 188, 189, 190, 191, 197, 198, 199, 200, ...</td>\n",
       "      <td>[37, 37, 37, 37, 37, 39, 39, 39, 39, 39, 41, 4...</td>\n",
       "      <td>[1, 0, 1, 1, 0, 1, 1, 1, 0, 0, 1, 0, 0, 0, 0, ...</td>\n",
       "      <td>[2020-02-28 05:51:56, 2020-02-28 06:31:36, 202...</td>\n",
       "    </tr>\n",
       "    <tr>\n",
       "      <th>1</th>\n",
       "      <td>[263, 264, 265, 266, 267, 40, 41, 42, 43, 44, ...</td>\n",
       "      <td>[52, 52, 52, 52, 52, 8, 8, 8, 8, 8, 10, 10, 10...</td>\n",
       "      <td>[0, 1, 1, 1, 1, 1, 0, 1, 1, 1, 0, 1, 1, 1, 1, ...</td>\n",
       "      <td>[2020-02-03 08:42:39, 2020-02-03 08:43:29, 202...</td>\n",
       "    </tr>\n",
       "    <tr>\n",
       "      <th>2</th>\n",
       "      <td>[3269, 3270, 3271, 3272, 3273, 3365, 3366, 336...</td>\n",
       "      <td>[625, 625, 625, 625, 625, 643, 643, 643, 643, ...</td>\n",
       "      <td>[0, 0, 0, 0, 0, 0, 0, 0, 0, 0, 1, 1, 1, 1, 0, ...</td>\n",
       "      <td>[2020-04-13 11:05:20, 2020-04-13 11:05:22, 202...</td>\n",
       "    </tr>\n",
       "    <tr>\n",
       "      <th>3</th>\n",
       "      <td>[3239, 3240, 3241, 3243, 3242, 3269, 3270, 327...</td>\n",
       "      <td>[619, 619, 619, 619, 619, 625, 625, 625, 625, ...</td>\n",
       "      <td>[0, 0, 0, 1, 0, 1, 1, 1, 0, 1, 1, 0, 0, 1, 1, ...</td>\n",
       "      <td>[2020-02-22 08:11:57, 2020-02-22 08:12:09, 202...</td>\n",
       "    </tr>\n",
       "    <tr>\n",
       "      <th>4</th>\n",
       "      <td>[3370, 3371, 3372, 3373, 3374, 3375, 3229, 323...</td>\n",
       "      <td>[644, 644, 644, 644, 644, 644, 617, 617, 617, ...</td>\n",
       "      <td>[1, 0, 0, 0, 1, 0, 1, 1, 0, 0, 0, 0, 0, 0, 0, ...</td>\n",
       "      <td>[2020-06-19 05:11:01, 2020-06-19 05:11:27, 202...</td>\n",
       "    </tr>\n",
       "    <tr>\n",
       "      <th>...</th>\n",
       "      <td>...</td>\n",
       "      <td>...</td>\n",
       "      <td>...</td>\n",
       "      <td>...</td>\n",
       "    </tr>\n",
       "    <tr>\n",
       "      <th>7437</th>\n",
       "      <td>[3452, 3453, 3454, 3455, 3456, 3457, 3469, 347...</td>\n",
       "      <td>[660, 660, 660, 660, 660, 660, 663, 663, 663, ...</td>\n",
       "      <td>[1, 1, 1, 1, 0, 0, 1, 1, 1, 1, 1, 1, 1, 0, 0, ...</td>\n",
       "      <td>[2020-05-12 06:33:15, 2020-05-12 06:53:36, 202...</td>\n",
       "    </tr>\n",
       "    <tr>\n",
       "      <th>7438</th>\n",
       "      <td>[79, 80, 81, 82, 83, 84, 85, 86, 95, 96, 97, 9...</td>\n",
       "      <td>[16, 16, 16, 16, 16, 16, 16, 16, 18, 18, 18, 1...</td>\n",
       "      <td>[0, 1, 1, 0, 1, 1, 1, 1, 1, 1, 1, 1, 1, 1, 1, ...</td>\n",
       "      <td>[2020-05-05 08:05:51, 2020-05-05 08:06:29, 202...</td>\n",
       "    </tr>\n",
       "    <tr>\n",
       "      <th>7439</th>\n",
       "      <td>[3116, 3117, 3118, 3119, 3120, 3121, 3376, 337...</td>\n",
       "      <td>[595, 595, 595, 595, 595, 595, 645, 645, 645, ...</td>\n",
       "      <td>[1, 1, 0, 1, 0, 0, 1, 0, 1, 1, 0, 0, 1, 0, 0, ...</td>\n",
       "      <td>[2020-02-07 04:28:22, 2020-02-07 04:28:59, 202...</td>\n",
       "    </tr>\n",
       "    <tr>\n",
       "      <th>7440</th>\n",
       "      <td>[3082, 3083, 3084, 3085, 3086, 3407, 3408, 340...</td>\n",
       "      <td>[589, 589, 589, 589, 589, 651, 651, 651, 651, ...</td>\n",
       "      <td>[0, 0, 0, 1, 0, 1, 0, 0, 0, 1, 1, 0, 1, 0, 1, ...</td>\n",
       "      <td>[2020-07-22 08:02:28, 2020-07-22 08:02:56, 202...</td>\n",
       "    </tr>\n",
       "    <tr>\n",
       "      <th>7441</th>\n",
       "      <td>[3427, 3428, 3429, 3430, 3431, 3432, 3588, 358...</td>\n",
       "      <td>[655, 655, 655, 655, 655, 655, 686, 686, 686, ...</td>\n",
       "      <td>[1, 0, 0, 0, 1, 0, 1, 0, 0, 0, 0, 1, 1, 1, 1, ...</td>\n",
       "      <td>[2020-03-19 22:13:22, 2020-03-19 22:13:26, 202...</td>\n",
       "    </tr>\n",
       "  </tbody>\n",
       "</table>\n",
       "<p>7442 rows × 4 columns</p>\n",
       "</div>"
      ],
      "text/plain": [
       "                                       assessmentItemID  \\\n",
       "0     [187, 188, 189, 190, 191, 197, 198, 199, 200, ...   \n",
       "1     [263, 264, 265, 266, 267, 40, 41, 42, 43, 44, ...   \n",
       "2     [3269, 3270, 3271, 3272, 3273, 3365, 3366, 336...   \n",
       "3     [3239, 3240, 3241, 3243, 3242, 3269, 3270, 327...   \n",
       "4     [3370, 3371, 3372, 3373, 3374, 3375, 3229, 323...   \n",
       "...                                                 ...   \n",
       "7437  [3452, 3453, 3454, 3455, 3456, 3457, 3469, 347...   \n",
       "7438  [79, 80, 81, 82, 83, 84, 85, 86, 95, 96, 97, 9...   \n",
       "7439  [3116, 3117, 3118, 3119, 3120, 3121, 3376, 337...   \n",
       "7440  [3082, 3083, 3084, 3085, 3086, 3407, 3408, 340...   \n",
       "7441  [3427, 3428, 3429, 3430, 3431, 3432, 3588, 358...   \n",
       "\n",
       "                                                 testId  \\\n",
       "0     [37, 37, 37, 37, 37, 39, 39, 39, 39, 39, 41, 4...   \n",
       "1     [52, 52, 52, 52, 52, 8, 8, 8, 8, 8, 10, 10, 10...   \n",
       "2     [625, 625, 625, 625, 625, 643, 643, 643, 643, ...   \n",
       "3     [619, 619, 619, 619, 619, 625, 625, 625, 625, ...   \n",
       "4     [644, 644, 644, 644, 644, 644, 617, 617, 617, ...   \n",
       "...                                                 ...   \n",
       "7437  [660, 660, 660, 660, 660, 660, 663, 663, 663, ...   \n",
       "7438  [16, 16, 16, 16, 16, 16, 16, 16, 18, 18, 18, 1...   \n",
       "7439  [595, 595, 595, 595, 595, 595, 645, 645, 645, ...   \n",
       "7440  [589, 589, 589, 589, 589, 651, 651, 651, 651, ...   \n",
       "7441  [655, 655, 655, 655, 655, 655, 686, 686, 686, ...   \n",
       "\n",
       "                                             answerCode  \\\n",
       "0     [1, 0, 1, 1, 0, 1, 1, 1, 0, 0, 1, 0, 0, 0, 0, ...   \n",
       "1     [0, 1, 1, 1, 1, 1, 0, 1, 1, 1, 0, 1, 1, 1, 1, ...   \n",
       "2     [0, 0, 0, 0, 0, 0, 0, 0, 0, 0, 1, 1, 1, 1, 0, ...   \n",
       "3     [0, 0, 0, 1, 0, 1, 1, 1, 0, 1, 1, 0, 0, 1, 1, ...   \n",
       "4     [1, 0, 0, 0, 1, 0, 1, 1, 0, 0, 0, 0, 0, 0, 0, ...   \n",
       "...                                                 ...   \n",
       "7437  [1, 1, 1, 1, 0, 0, 1, 1, 1, 1, 1, 1, 1, 0, 0, ...   \n",
       "7438  [0, 1, 1, 0, 1, 1, 1, 1, 1, 1, 1, 1, 1, 1, 1, ...   \n",
       "7439  [1, 1, 0, 1, 0, 0, 1, 0, 1, 1, 0, 0, 1, 0, 0, ...   \n",
       "7440  [0, 0, 0, 1, 0, 1, 0, 0, 0, 1, 1, 0, 1, 0, 1, ...   \n",
       "7441  [1, 0, 0, 0, 1, 0, 1, 0, 0, 0, 0, 1, 1, 1, 1, ...   \n",
       "\n",
       "                                              Timestamp  \n",
       "0     [2020-02-28 05:51:56, 2020-02-28 06:31:36, 202...  \n",
       "1     [2020-02-03 08:42:39, 2020-02-03 08:43:29, 202...  \n",
       "2     [2020-04-13 11:05:20, 2020-04-13 11:05:22, 202...  \n",
       "3     [2020-02-22 08:11:57, 2020-02-22 08:12:09, 202...  \n",
       "4     [2020-06-19 05:11:01, 2020-06-19 05:11:27, 202...  \n",
       "...                                                 ...  \n",
       "7437  [2020-05-12 06:33:15, 2020-05-12 06:53:36, 202...  \n",
       "7438  [2020-05-05 08:05:51, 2020-05-05 08:06:29, 202...  \n",
       "7439  [2020-02-07 04:28:22, 2020-02-07 04:28:59, 202...  \n",
       "7440  [2020-07-22 08:02:28, 2020-07-22 08:02:56, 202...  \n",
       "7441  [2020-03-19 22:13:22, 2020-03-19 22:13:26, 202...  \n",
       "\n",
       "[7442 rows x 4 columns]"
      ]
     },
     "execution_count": 16,
     "metadata": {},
     "output_type": "execute_result"
    }
   ],
   "source": [
    "%%time\n",
    "df.apply(sortby_timestamp, axis=1)"
   ]
  },
  {
   "cell_type": "markdown",
   "metadata": {},
   "source": [
    "# Number of interactions"
   ]
  },
  {
   "cell_type": "markdown",
   "metadata": {},
   "source": [
    "## Per student"
   ]
  },
  {
   "cell_type": "markdown",
   "metadata": {},
   "source": [
    "학생 한 명이 몇 개의 문제를 풀었는지 확인해보는 코드입니다."
   ]
  },
  {
   "cell_type": "code",
   "execution_count": 17,
   "metadata": {
    "ExecuteTime": {
     "end_time": "2021-02-10T06:52:34.539795Z",
     "start_time": "2021-02-10T06:52:34.524795Z"
    }
   },
   "outputs": [],
   "source": [
    "num_df = df.loc[:, 'assessmentItemID'].apply(lambda x: len(x))"
   ]
  },
  {
   "cell_type": "code",
   "execution_count": 18,
   "metadata": {
    "ExecuteTime": {
     "end_time": "2021-02-10T06:52:34.825796Z",
     "start_time": "2021-02-10T06:52:34.540795Z"
    }
   },
   "outputs": [
    {
     "data": {
      "text/plain": [
       "Text(0, 0.5, '# of Students')"
      ]
     },
     "execution_count": 18,
     "metadata": {},
     "output_type": "execute_result"
    },
    {
     "data": {
      "image/png": "[encoded data removed]",
      "text/plain": [
       "<Figure size 432x288 with 1 Axes>"
      ]
     },
     "metadata": {
      "needs_background": "light"
     },
     "output_type": "display_data"
    }
   ],
   "source": [
    "fig, ax = plt.subplots()\n",
    "num_df.hist(ax=ax, bins=30)\n",
    "ax.set_title('Histogram of interactions per student')\n",
    "ax.axvline(x=num_df.mean(), c='r')\n",
    "ax.axvline(x=num_df.median(), c='r')\n",
    "ax.set_ylabel('# of Students')"
   ]
  },
  {
   "cell_type": "code",
   "execution_count": 19,
   "metadata": {
    "ExecuteTime": {
     "end_time": "2021-02-10T06:52:34.841798Z",
     "start_time": "2021-02-10T06:52:34.827798Z"
    }
   },
   "outputs": [
    {
     "name": "stdout",
     "output_type": "stream",
     "text": [
      "\n",
      "Max# of itracts: 2113,\n",
      "Min# of itracts: 12\n",
      "Median of itracts: 242.0,\n",
      "Mean of itracts: 339.519,\n",
      "\n"
     ]
    }
   ],
   "source": [
    "info = f'''\n",
    "Max# of itracts: {num_df.max()},\n",
    "Min# of itracts: {num_df.min()}\n",
    "Median of itracts: {num_df.median()},\n",
    "Mean of itracts: {num_df.mean():.3f},\n",
    "'''\n",
    "print(info)"
   ]
  },
  {
   "cell_type": "markdown",
   "metadata": {},
   "source": [
    "## Per Question\n",
    "문제가 각각 몇 번 풀렸는지 확인해보는 코드입니다."
   ]
  },
  {
   "cell_type": "code",
   "execution_count": 20,
   "metadata": {
    "ExecuteTime": {
     "end_time": "2021-02-10T06:52:35.015794Z",
     "start_time": "2021-02-10T06:52:34.843797Z"
    }
   },
   "outputs": [],
   "source": [
    "item_count = Counter(item_ids)\n",
    "item_hist = Counter({v: k for k, v in item_count.items()})"
   ]
  },
  {
   "cell_type": "code",
   "execution_count": 21,
   "metadata": {
    "ExecuteTime": {
     "end_time": "2021-02-10T06:52:35.030793Z",
     "start_time": "2021-02-10T06:52:35.018795Z"
    }
   },
   "outputs": [
    {
     "data": {
      "text/plain": [
       "{50, 100, 150, 200, 250, 300, 350, 400, 450, 500}"
      ]
     },
     "execution_count": 21,
     "metadata": {},
     "output_type": "execute_result"
    }
   ],
   "source": [
    "set(item_count.values())"
   ]
  },
  {
   "cell_type": "markdown",
   "metadata": {},
   "source": [
    "암만 봐도 이상해서 `Counter`를 써보니 이상하게도 문제 푼 횟수가... 뭔가 고정되어 있네요.   \n",
    "잘못 본 것인가 확인해봤는데 지후님이 제공해주신 플롯도 굉장히 Quantize 되어있는 걸 확인했습니다.\n",
    "이상은 없는 것 같군요. 다만 보고 받았던 자료에서 최댓값이 300이었던 것과 비교하면 그 이상 풀린 문제들도 존재하는 걸 확인할 수 있었습니다."
   ]
  },
  {
   "cell_type": "code",
   "execution_count": 22,
   "metadata": {
    "ExecuteTime": {
     "end_time": "2021-02-10T06:52:35.046797Z",
     "start_time": "2021-02-10T06:52:35.033799Z"
    }
   },
   "outputs": [
    {
     "data": {
      "text/plain": [
       "Counter({350: 9240,\n",
       "         300: 9280,\n",
       "         250: 9320,\n",
       "         200: 9342,\n",
       "         150: 9375,\n",
       "         100: 9419,\n",
       "         50: 9453,\n",
       "         400: 9108,\n",
       "         500: 9056,\n",
       "         450: 9078})"
      ]
     },
     "execution_count": 22,
     "metadata": {},
     "output_type": "execute_result"
    }
   ],
   "source": [
    "item_hist"
   ]
  },
  {
   "cell_type": "markdown",
   "metadata": {},
   "source": [
    "저걸 해석하면, 50번 풀린 문제가 총 3,056개 있다는 뜻입니다."
   ]
  },
  {
   "cell_type": "code",
   "execution_count": 23,
   "metadata": {
    "ExecuteTime": {
     "end_time": "2021-02-10T06:52:35.157795Z",
     "start_time": "2021-02-10T06:52:35.048797Z"
    }
   },
   "outputs": [
    {
     "data": {
      "image/png": "[encoded data removed]",
      "text/plain": [
       "<Figure size 432x288 with 1 Axes>"
      ]
     },
     "metadata": {
      "needs_background": "light"
     },
     "output_type": "display_data"
    }
   ],
   "source": [
    "plt.title(\"Histogram of Problems solved\")\n",
    "plt.bar(item_hist.keys(), item_hist.values(), width=20)\n",
    "plt.xlabel(\"# of times problem solved\")\n",
    "plt.grid()"
   ]
  },
  {
   "cell_type": "markdown",
   "metadata": {},
   "source": [
    "## Per Test"
   ]
  },
  {
   "cell_type": "code",
   "execution_count": 24,
   "metadata": {
    "ExecuteTime": {
     "end_time": "2021-02-10T06:52:35.333793Z",
     "start_time": "2021-02-10T06:52:35.158796Z"
    }
   },
   "outputs": [],
   "source": [
    "test_count = Counter(test_ids, )\n",
    "test_hist = Counter({v: k for k, v in test_count.items()})"
   ]
  },
  {
   "cell_type": "markdown",
   "metadata": {},
   "source": [
    "시험지가 풀린 횟수가 결국엔 문항 풀린 횟수에 의존하게 되니, 이 또한 숫자가 좀 깎여있네요"
   ]
  },
  {
   "cell_type": "code",
   "execution_count": 25,
   "metadata": {
    "ExecuteTime": {
     "end_time": "2021-02-10T06:52:35.349793Z",
     "start_time": "2021-02-10T06:52:35.334795Z"
    },
    "scrolled": true
   },
   "outputs": [
    {
     "data": {
      "text/plain": [
       "Counter({1750: 1256,\n",
       "         1400: 1137,\n",
       "         2800: 1505,\n",
       "         2100: 1489,\n",
       "         1050: 1523,\n",
       "         2450: 136,\n",
       "         1500: 1517,\n",
       "         1250: 1160,\n",
       "         1000: 1158,\n",
       "         750: 1054,\n",
       "         500: 1456,\n",
       "         250: 583,\n",
       "         200: 581,\n",
       "         1200: 1524,\n",
       "         400: 1533,\n",
       "         300: 1536,\n",
       "         600: 1531,\n",
       "         1800: 1511,\n",
       "         2400: 1509,\n",
       "         3000: 1476,\n",
       "         800: 1528,\n",
       "         3300: 424,\n",
       "         2700: 1479,\n",
       "         900: 1525,\n",
       "         3900: 767,\n",
       "         350: 1440,\n",
       "         2000: 1513,\n",
       "         2250: 1244,\n",
       "         2500: 955,\n",
       "         700: 1156,\n",
       "         2750: 1117,\n",
       "         1600: 1520,\n",
       "         3200: 1485,\n",
       "         4400: 1452,\n",
       "         4000: 1478,\n",
       "         3600: 1481})"
      ]
     },
     "execution_count": 25,
     "metadata": {},
     "output_type": "execute_result"
    }
   ],
   "source": [
    "test_hist"
   ]
  },
  {
   "cell_type": "code",
   "execution_count": 26,
   "metadata": {
    "ExecuteTime": {
     "end_time": "2021-02-10T06:52:35.508793Z",
     "start_time": "2021-02-10T06:52:35.350795Z"
    }
   },
   "outputs": [
    {
     "data": {
      "image/png": "[encoded data removed]",
      "text/plain": [
       "<Figure size 432x288 with 1 Axes>"
      ]
     },
     "metadata": {
      "needs_background": "light"
     },
     "output_type": "display_data"
    }
   ],
   "source": [
    "plt.title(\"Histogram of Test solved\")\n",
    "plt.bar(test_hist.keys(), test_hist.values(), width=10)\n",
    "plt.xlabel(\"# of times test solved\")\n",
    "plt.grid()"
   ]
  },
  {
   "cell_type": "markdown",
   "metadata": {},
   "source": [
    "# 정답률 분석\n",
    "1. 학생별 정답률\n",
    "2. 문제별 정답률\n",
    "\n",
    "을 분석해보았습니다."
   ]
  },
  {
   "cell_type": "markdown",
   "metadata": {
    "ExecuteTime": {
     "end_time": "2021-02-09T12:16:51.907976Z",
     "start_time": "2021-02-09T12:16:51.847978Z"
    }
   },
   "source": [
    "## 학생별 정답률"
   ]
  },
  {
   "cell_type": "code",
   "execution_count": 27,
   "metadata": {
    "ExecuteTime": {
     "end_time": "2021-02-10T07:12:48.827884Z",
     "start_time": "2021-02-10T07:12:48.462886Z"
    }
   },
   "outputs": [],
   "source": [
    "def answer_rate(lst):\n",
    "    \n",
    "    answers = np.array(lst)\n",
    "    return len(answers[answers == 1]) / len(answers)\n",
    "\n",
    "student_answer_rate = df['answerCode'].apply(answer_rate)"
   ]
  },
  {
   "cell_type": "code",
   "execution_count": 28,
   "metadata": {
    "ExecuteTime": {
     "end_time": "2021-02-10T07:12:49.003885Z",
     "start_time": "2021-02-10T07:12:48.829884Z"
    }
   },
   "outputs": [
    {
     "data": {
      "text/plain": [
       "<AxesSubplot:title={'center':'Histogram of Answer rate for each student'}>"
      ]
     },
     "execution_count": 28,
     "metadata": {},
     "output_type": "execute_result"
    },
    {
     "data": {
      "image/png": "[encoded data removed]",
      "text/plain": [
       "<Figure size 432x288 with 1 Axes>"
      ]
     },
     "metadata": {
      "needs_background": "light"
     },
     "output_type": "display_data"
    }
   ],
   "source": [
    "fig, ax = plt.subplots()\n",
    "ax.set_title('Histogram of Answer rate for each student')\n",
    "student_answer_rate.hist(ax=ax, bins=15)"
   ]
  },
  {
   "cell_type": "code",
   "execution_count": 29,
   "metadata": {
    "ExecuteTime": {
     "end_time": "2021-02-10T07:13:00.669156Z",
     "start_time": "2021-02-10T07:13:00.645649Z"
    }
   },
   "outputs": [],
   "source": [
    "df['studentAnswerRate'] = student_answer_rate"
   ]
  },
  {
   "cell_type": "markdown",
   "metadata": {},
   "source": [
    "## 문항별 정답률"
   ]
  },
  {
   "cell_type": "code",
   "execution_count": 30,
   "metadata": {
    "ExecuteTime": {
     "end_time": "2021-02-10T06:52:36.153794Z",
     "start_time": "2021-02-10T06:52:35.824795Z"
    }
   },
   "outputs": [],
   "source": [
    "item_ids = list(chain(*df['assessmentItemID'].values))\n",
    "answer_ids = list(chain(*df['answerCode'].values))\n",
    "test_ids = list(chain(*df['testId'].values))"
   ]
  },
  {
   "cell_type": "code",
   "execution_count": 31,
   "metadata": {
    "ExecuteTime": {
     "end_time": "2021-02-10T06:52:36.852825Z",
     "start_time": "2021-02-10T06:52:36.155797Z"
    }
   },
   "outputs": [],
   "source": [
    "item_answer_pairs = [(i, a) for i, a in zip(item_ids, answer_ids)]\n",
    "test_answer_pairs = [(t, a) for t, a in zip(test_ids, answer_ids)]"
   ]
  },
  {
   "cell_type": "code",
   "execution_count": 32,
   "metadata": {
    "ExecuteTime": {
     "end_time": "2021-02-10T06:52:37.170826Z",
     "start_time": "2021-02-10T06:52:36.853827Z"
    }
   },
   "outputs": [],
   "source": [
    "item_answer_rate = Counter(item_answer_pairs)"
   ]
  },
  {
   "cell_type": "markdown",
   "metadata": {},
   "source": [
    "# 쓸만한 Feature가 있는가"
   ]
  },
  {
   "cell_type": "markdown",
   "metadata": {},
   "source": [
    "주어진 데이터가 너무 작아서 (...) 결국엔\n",
    "- 어떤 문제를 풀었나\n",
    "- 문제가 어느 테스트 안에 속해있고\n",
    "- 문제를 맞췄는지\n",
    "- 언제 풀었는지\n",
    "\n",
    "이 정도인데... 생각나는 특성은\n",
    "1. 문제 푼 사이 시간 (Elapsed time)\n",
    "2. 푼 문제들이 같은 테스트셋 안에서 연속인지 아닌지"
   ]
  },
  {
   "cell_type": "markdown",
   "metadata": {},
   "source": [
    "## 앞에 푼 문제로부터 걸린 시간"
   ]
  },
  {
   "cell_type": "markdown",
   "metadata": {},
   "source": [
    "문제의 sequence가 있을 때 지나간 시간(sec)를 한 번 계산해보았습니다."
   ]
  },
  {
   "cell_type": "code",
   "execution_count": 33,
   "metadata": {
    "ExecuteTime": {
     "end_time": "2021-02-10T07:04:49.164464Z",
     "start_time": "2021-02-10T07:04:49.158467Z"
    }
   },
   "outputs": [],
   "source": [
    "def timedelta2float(td):\n",
    "    \n",
    "    res = td.microseconds/float(1000000) + (td.seconds + td.days * 24 * 3600)\n",
    "    return res\n",
    "\n",
    "def calculate_elapsed(lst):\n",
    "    \n",
    "    return [0.] + [timedelta2float(lst[i+1] - lst[i]) for i, _ in enumerate(lst[:-1])]"
   ]
  },
  {
   "cell_type": "code",
   "execution_count": 34,
   "metadata": {
    "ExecuteTime": {
     "end_time": "2021-02-10T07:05:36.890729Z",
     "start_time": "2021-02-10T07:05:35.431731Z"
    }
   },
   "outputs": [],
   "source": [
    "elapsed = df['Timestamp'].apply(calculate_elapsed)"
   ]
  },
  {
   "cell_type": "code",
   "execution_count": 35,
   "metadata": {
    "ExecuteTime": {
     "end_time": "2021-02-10T07:28:33.145217Z",
     "start_time": "2021-02-10T07:28:33.129217Z"
    }
   },
   "outputs": [
    {
     "data": {
      "text/plain": [
       "0       [0.0, 2380.0, 28.0, 63.0, 15.0, 320781.0, 90.0...\n",
       "1       [0.0, 50.0, 113.0, 74.0, 41.0, 2677591.0, 35.0...\n",
       "2       [0.0, 2.0, 7.0, 29.0, 7.0, 3371407.0, 3.0, 2.0...\n",
       "3       [0.0, 12.0, 29.0, 592.0, 3107.0, 2946643.0, 65...\n",
       "4       [0.0, 26.0, 19.0, 8.0, 34.0, 14.0, 1135597.0, ...\n",
       "                              ...                        \n",
       "7437    [0.0, 1221.0, 7.0, 11.0, 1010.0, 30.0, 601238....\n",
       "7438    [0.0, 38.0, 6.0, 18.0, 30.0, 27.0, 22.0, 16.0,...\n",
       "7439    [0.0, 37.0, 30.0, 148.0, 22.0, 24.0, 11852270....\n",
       "7440    [0.0, 28.0, 90.0, 22.0, 13.0, 68677.0, 84.0, 2...\n",
       "7441    [0.0, 4.0, 3.0, 3.0, 6.0, 15.0, 13089759.0, 37...\n",
       "Name: Timestamp, Length: 7442, dtype: object"
      ]
     },
     "execution_count": 35,
     "metadata": {},
     "output_type": "execute_result"
    }
   ],
   "source": [
    "elapsed"
   ]
  },
  {
   "cell_type": "code",
   "execution_count": 36,
   "metadata": {
    "ExecuteTime": {
     "end_time": "2021-02-10T07:16:20.695484Z",
     "start_time": "2021-02-10T07:16:20.564968Z"
    }
   },
   "outputs": [
    {
     "data": {
      "image/png": "[encoded data removed]",
      "text/plain": [
       "<Figure size 432x288 with 1 Axes>"
      ]
     },
     "metadata": {
      "needs_background": "light"
     },
     "output_type": "display_data"
    }
   ],
   "source": [
    "plt.plot(elapsed[0])\n",
    "plt.grid()"
   ]
  },
  {
   "cell_type": "code",
   "execution_count": 37,
   "metadata": {
    "ExecuteTime": {
     "end_time": "2021-02-10T07:13:18.652482Z",
     "start_time": "2021-02-10T07:13:18.637485Z"
    }
   },
   "outputs": [],
   "source": [
    "df['Elapsed'] = elapsed"
   ]
  },
  {
   "cell_type": "markdown",
   "metadata": {},
   "source": [
    "## 시험지를 연속으로 풀었는가\n"
   ]
  },
  {
   "cell_type": "code",
   "execution_count": 38,
   "metadata": {
    "ExecuteTime": {
     "end_time": "2021-02-10T07:20:02.451287Z",
     "start_time": "2021-02-10T07:20:02.444290Z"
    }
   },
   "outputs": [],
   "source": [
    "sample = df.loc[0, 'testId']"
   ]
  },
  {
   "cell_type": "code",
   "execution_count": 39,
   "metadata": {
    "ExecuteTime": {
     "end_time": "2021-02-10T07:28:11.888462Z",
     "start_time": "2021-02-10T07:28:11.882463Z"
    }
   },
   "outputs": [],
   "source": [
    "def test_consecutive(lst):\n",
    "    \n",
    "    return [1] + [1 if lst[i] == lst[i-1] else 0 for i in range(1, len(lst))]"
   ]
  },
  {
   "cell_type": "code",
   "execution_count": 40,
   "metadata": {
    "ExecuteTime": {
     "end_time": "2021-02-10T07:28:13.472479Z",
     "start_time": "2021-02-10T07:28:13.194479Z"
    }
   },
   "outputs": [],
   "source": [
    "consecutive = df['testId'].apply(test_consecutive)"
   ]
  },
  {
   "cell_type": "code",
   "execution_count": 44,
   "metadata": {},
   "outputs": [
    {
     "data": {
      "text/plain": [
       "0       [37, 37, 37, 37, 37, 39, 39, 39, 39, 39, 41, 4...\n",
       "1       [52, 52, 52, 52, 52, 8, 8, 8, 8, 8, 10, 10, 10...\n",
       "2       [625, 625, 625, 625, 625, 643, 643, 643, 643, ...\n",
       "3       [619, 619, 619, 619, 619, 625, 625, 625, 625, ...\n",
       "4       [644, 644, 644, 644, 644, 644, 617, 617, 617, ...\n",
       "                              ...                        \n",
       "7437    [660, 660, 660, 660, 660, 660, 663, 663, 663, ...\n",
       "7438    [16, 16, 16, 16, 16, 16, 16, 16, 18, 18, 18, 1...\n",
       "7439    [595, 595, 595, 595, 595, 595, 645, 645, 645, ...\n",
       "7440    [589, 589, 589, 589, 589, 651, 651, 651, 651, ...\n",
       "7441    [655, 655, 655, 655, 655, 655, 686, 686, 686, ...\n",
       "Name: testId, Length: 7442, dtype: object"
      ]
     },
     "execution_count": 44,
     "metadata": {},
     "output_type": "execute_result"
    }
   ],
   "source": [
    "df['testId']"
   ]
  },
  {
   "cell_type": "code",
   "execution_count": 41,
   "metadata": {
    "ExecuteTime": {
     "end_time": "2021-02-10T07:28:26.528083Z",
     "start_time": "2021-02-10T07:28:26.506084Z"
    }
   },
   "outputs": [
    {
     "data": {
      "text/plain": [
       "0       [1, 1, 1, 1, 1, 0, 1, 1, 1, 1, 0, 1, 1, 1, 1, ...\n",
       "1       [1, 1, 1, 1, 1, 0, 1, 1, 1, 1, 0, 1, 1, 1, 1, ...\n",
       "2       [1, 1, 1, 1, 1, 0, 1, 1, 1, 1, 0, 1, 1, 1, 0, ...\n",
       "3       [1, 1, 1, 1, 1, 0, 1, 1, 1, 1, 0, 1, 1, 1, 1, ...\n",
       "4       [1, 1, 1, 1, 1, 1, 0, 1, 1, 1, 1, 0, 1, 1, 1, ...\n",
       "                              ...                        \n",
       "7437    [1, 1, 1, 1, 1, 1, 0, 1, 1, 1, 1, 1, 0, 1, 1, ...\n",
       "7438    [1, 1, 1, 1, 1, 1, 1, 1, 0, 1, 1, 1, 1, 0, 1, ...\n",
       "7439    [1, 1, 1, 1, 1, 1, 0, 1, 1, 1, 1, 1, 0, 1, 1, ...\n",
       "7440    [1, 1, 1, 1, 1, 0, 1, 1, 1, 1, 0, 1, 1, 1, 1, ...\n",
       "7441    [1, 1, 1, 1, 1, 1, 0, 1, 1, 1, 1, 1, 0, 1, 1, ...\n",
       "Name: testId, Length: 7442, dtype: object"
      ]
     },
     "execution_count": 41,
     "metadata": {},
     "output_type": "execute_result"
    }
   ],
   "source": [
    "consecutive"
   ]
  },
  {
   "cell_type": "code",
   "execution_count": 42,
   "metadata": {
    "ExecuteTime": {
     "end_time": "2021-02-10T07:28:44.263962Z",
     "start_time": "2021-02-10T07:28:44.251961Z"
    }
   },
   "outputs": [],
   "source": [
    "df['testConsecutive'] = consecutive"
   ]
  },
  {
   "cell_type": "markdown",
   "metadata": {},
   "source": [
    "# 데이터 구성\n",
    "그래서 모델링을 어떻게할 것이냐를 구상하고, 이를 통해 데이터를 어떻게 짤 것이냐, 즉 `DataLoader`를 어떻게 짤 것인지를 고민해봐야할 것 같습니다."
   ]
  },
  {
   "cell_type": "markdown",
   "metadata": {},
   "source": [
    "기본적으로 저희가 가지고 있는 자원은\n",
    "+ BERTEncoder\n",
    "+ SAINT(Encoder-Decoder Architecture)\n",
    "\n",
    "인데 결국에는 임베딩을 하는 방식은 같고, 어떤 임베딩 결과를 Encoder에 넣어줄 것인지, Decoder에 넣어줄 것인지를 고민하면 될 것 같습니다.\n",
    "우선 두 방식 모두 고정된 길이의 Sequence_length를 요구하므로 첫 번째 Hyperparameter를 정해주면\n",
    "+ `seq_len=256`\n",
    "\n",
    "로 정합시다. 평균적으로 한 학생이 푼 문항의 수가 339문항이고, 중앙값은 212를 가지는 것을 감안했을 때 정한 숫자입니다. 이건 바꿔가면서 조절할 수 있을 것 같네요."
   ]
  },
  {
   "cell_type": "code",
   "execution_count": null,
   "metadata": {},
   "outputs": [],
   "source": []
  }
 ],
 "metadata": {
  "kernelspec": {
   "display_name": "Python 3",
   "language": "python",
   "name": "python3"
  },
  "language_info": {
   "codemirror_mode": {
    "name": "ipython",
    "version": 3
   },
   "file_extension": ".py",
   "mimetype": "text/x-python",
   "name": "python",
   "nbconvert_exporter": "python",
   "pygments_lexer": "ipython3",
   "version": "3.7.7"
  },
  "toc": {
   "base_numbering": 1,
   "nav_menu": {},
   "number_sections": true,
   "sideBar": true,
   "skip_h1_title": false,
   "title_cell": "Table of Contents",
   "title_sidebar": "Contents",
   "toc_cell": false,
   "toc_position": {},
   "toc_section_display": true,
   "toc_window_display": false
  }
 },
 "nbformat": 4,
 "nbformat_minor": 4
}
