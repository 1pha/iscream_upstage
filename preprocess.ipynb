{
 "cells": [
  {
   "cell_type": "code",
   "execution_count": 2,
   "metadata": {
    "ExecuteTime": {
     "end_time": "2021-02-16T06:35:18.330745Z",
     "start_time": "2021-02-16T06:35:17.742628Z"
    }
   },
   "outputs": [],
   "source": [
    "import cv2"
   ]
  },
  {
   "cell_type": "code",
   "execution_count": null,
   "metadata": {},
   "outputs": [],
   "source": [
    "cv2.imshow()"
   ]
  },
  {
   "cell_type": "code",
   "execution_count": 1,
   "metadata": {
    "ExecuteTime": {
     "end_time": "2021-02-16T06:22:51.635318Z",
     "start_time": "2021-02-16T06:22:50.794298Z"
    }
   },
   "outputs": [],
   "source": [
    "import json\n",
    "from collections import Counter\n",
    "from itertools import chain\n",
    "import matplotlib as mpl\n",
    "import matplotlib.pyplot as plt\n",
    "from datetime import datetime\n",
    "\n",
    "import numpy as np\n",
    "import pandas as pd"
   ]
  },
  {
   "cell_type": "markdown",
   "metadata": {},
   "source": [
    "# Load Data"
   ]
  },
  {
   "cell_type": "code",
   "execution_count": 2,
   "metadata": {
    "ExecuteTime": {
     "end_time": "2021-02-13T10:12:48.320018Z",
     "start_time": "2021-02-13T10:12:48.304987Z"
    }
   },
   "outputs": [],
   "source": [
    "def load_iscream(fpath='iscream_public_edu_v3.txt'):\n",
    "    \n",
    "    with open(fpath, 'r') as f:\n",
    "        lines = f.readlines()\n",
    "        \n",
    "    lines = [json.loads(line.strip().replace(\"'\",\"\\\"\")) for line in lines]\n",
    "    \n",
    "    df = pd.DataFrame(columns=lines[0].keys())\n",
    "    for user in lines:\n",
    "        df = df.append(pd.Series(user), ignore_index=True)\n",
    "        \n",
    "    return df"
   ]
  },
  {
   "cell_type": "code",
   "execution_count": 3,
   "metadata": {
    "ExecuteTime": {
     "end_time": "2021-02-13T08:22:41.385525Z",
     "start_time": "2021-02-13T08:22:23.450032Z"
    }
   },
   "outputs": [
    {
     "name": "stdout",
     "output_type": "stream",
     "text": [
      "Wall time: 17.9 s\n"
     ]
    }
   ],
   "source": [
    "%%time\n",
    "df = load_iscream()"
   ]
  },
  {
   "cell_type": "markdown",
   "metadata": {},
   "source": [
    "# train.csv"
   ]
  },
  {
   "cell_type": "markdown",
   "metadata": {},
   "source": [
    "## Convert Timestamp"
   ]
  },
  {
   "cell_type": "code",
   "execution_count": 15,
   "metadata": {
    "ExecuteTime": {
     "end_time": "2021-02-13T08:24:20.192323Z",
     "start_time": "2021-02-13T08:24:19.186201Z"
    }
   },
   "outputs": [],
   "source": [
    "df['Timestamp'] = df['Timestamp'].apply(lambda x: list(datetime.fromtimestamp(_) for _ in x))"
   ]
  },
  {
   "cell_type": "markdown",
   "metadata": {},
   "source": [
    "## Sortby timestamp"
   ]
  },
  {
   "cell_type": "code",
   "execution_count": 6,
   "metadata": {
    "ExecuteTime": {
     "end_time": "2021-02-13T08:22:41.576937Z",
     "start_time": "2021-02-13T08:22:41.561885Z"
    }
   },
   "outputs": [],
   "source": [
    "def sortby_timestamp(line):\n",
    "    \n",
    "    mask = np.array(line['Timestamp']).argsort()\n",
    "    \n",
    "    line['assessmentItemID'] = [line['assessmentItemID'][i] for i in mask]\n",
    "    line['testId'] = [line['testId'][i] for i in mask]\n",
    "    line['answerCode'] = [line['answerCode'][i] for i in mask]\n",
    "    line['Timestamp'] = [line['Timestamp'][i] for i in mask]\n",
    "        \n",
    "    return line"
   ]
  },
  {
   "cell_type": "code",
   "execution_count": 7,
   "metadata": {
    "ExecuteTime": {
     "end_time": "2021-02-13T08:23:12.711500Z",
     "start_time": "2021-02-13T08:22:44.090042Z"
    }
   },
   "outputs": [
    {
     "name": "stdout",
     "output_type": "stream",
     "text": [
      "Wall time: 28.6 s\n"
     ]
    },
    {
     "data": {
      "text/html": [
       "<div>\n",
       "<style scoped>\n",
       "    .dataframe tbody tr th:only-of-type {\n",
       "        vertical-align: middle;\n",
       "    }\n",
       "\n",
       "    .dataframe tbody tr th {\n",
       "        vertical-align: top;\n",
       "    }\n",
       "\n",
       "    .dataframe thead th {\n",
       "        text-align: right;\n",
       "    }\n",
       "</style>\n",
       "<table border=\"1\" class=\"dataframe\">\n",
       "  <thead>\n",
       "    <tr style=\"text-align: right;\">\n",
       "      <th></th>\n",
       "      <th>assessmentItemID</th>\n",
       "      <th>testId</th>\n",
       "      <th>answerCode</th>\n",
       "      <th>Timestamp</th>\n",
       "    </tr>\n",
       "  </thead>\n",
       "  <tbody>\n",
       "    <tr>\n",
       "      <th>0</th>\n",
       "      <td>[187, 188, 189, 190, 191, 197, 198, 199, 200, ...</td>\n",
       "      <td>[37, 37, 37, 37, 37, 39, 39, 39, 39, 39, 41, 4...</td>\n",
       "      <td>[1, 0, 1, 1, 0, 1, 1, 1, 0, 0, 1, 0, 0, 0, 0, ...</td>\n",
       "      <td>[1582836716.0, 1582839096.0, 1582839124.0, 158...</td>\n",
       "    </tr>\n",
       "    <tr>\n",
       "      <th>1</th>\n",
       "      <td>[263, 264, 265, 266, 267, 40, 41, 42, 43, 44, ...</td>\n",
       "      <td>[52, 52, 52, 52, 52, 8, 8, 8, 8, 8, 10, 10, 10...</td>\n",
       "      <td>[0, 1, 1, 1, 1, 1, 0, 1, 1, 1, 0, 1, 1, 1, 1, ...</td>\n",
       "      <td>[1580686959.0, 1580687009.0, 1580687122.0, 158...</td>\n",
       "    </tr>\n",
       "    <tr>\n",
       "      <th>2</th>\n",
       "      <td>[3269, 3270, 3271, 3272, 3273, 3365, 3366, 336...</td>\n",
       "      <td>[625, 625, 625, 625, 625, 643, 643, 643, 643, ...</td>\n",
       "      <td>[0, 0, 0, 0, 0, 0, 0, 0, 0, 0, 1, 1, 1, 1, 0, ...</td>\n",
       "      <td>[1586743520.0, 1586743522.0, 1586743529.0, 158...</td>\n",
       "    </tr>\n",
       "    <tr>\n",
       "      <th>3</th>\n",
       "      <td>[3239, 3240, 3241, 3243, 3242, 3269, 3270, 327...</td>\n",
       "      <td>[619, 619, 619, 619, 619, 625, 625, 625, 625, ...</td>\n",
       "      <td>[0, 0, 0, 1, 0, 1, 1, 1, 0, 1, 1, 0, 0, 1, 1, ...</td>\n",
       "      <td>[1582326717.0, 1582326729.0, 1582326758.0, 158...</td>\n",
       "    </tr>\n",
       "    <tr>\n",
       "      <th>4</th>\n",
       "      <td>[3370, 3371, 3372, 3373, 3374, 3375, 3229, 323...</td>\n",
       "      <td>[644, 644, 644, 644, 644, 644, 617, 617, 617, ...</td>\n",
       "      <td>[1, 0, 0, 0, 1, 0, 1, 1, 0, 0, 0, 0, 0, 0, 0, ...</td>\n",
       "      <td>[1592511061.0, 1592511087.0, 1592511106.0, 159...</td>\n",
       "    </tr>\n",
       "    <tr>\n",
       "      <th>...</th>\n",
       "      <td>...</td>\n",
       "      <td>...</td>\n",
       "      <td>...</td>\n",
       "      <td>...</td>\n",
       "    </tr>\n",
       "    <tr>\n",
       "      <th>7437</th>\n",
       "      <td>[3452, 3453, 3454, 3455, 3456, 3457, 3469, 347...</td>\n",
       "      <td>[660, 660, 660, 660, 660, 660, 663, 663, 663, ...</td>\n",
       "      <td>[1, 1, 1, 1, 0, 0, 1, 1, 1, 1, 1, 1, 1, 0, 0, ...</td>\n",
       "      <td>[1589232795.0, 1589234016.0, 1589234023.0, 158...</td>\n",
       "    </tr>\n",
       "    <tr>\n",
       "      <th>7438</th>\n",
       "      <td>[79, 80, 81, 82, 83, 84, 85, 86, 95, 96, 97, 9...</td>\n",
       "      <td>[16, 16, 16, 16, 16, 16, 16, 16, 18, 18, 18, 1...</td>\n",
       "      <td>[0, 1, 1, 0, 1, 1, 1, 1, 1, 1, 1, 1, 1, 1, 1, ...</td>\n",
       "      <td>[1588633551.0, 1588633589.0, 1588633595.0, 158...</td>\n",
       "    </tr>\n",
       "    <tr>\n",
       "      <th>7439</th>\n",
       "      <td>[3116, 3117, 3118, 3119, 3120, 3121, 3376, 337...</td>\n",
       "      <td>[595, 595, 595, 595, 595, 595, 645, 645, 645, ...</td>\n",
       "      <td>[1, 1, 0, 1, 0, 0, 1, 0, 1, 1, 0, 0, 1, 0, 0, ...</td>\n",
       "      <td>[1581017302.0, 1581017339.0, 1581017369.0, 158...</td>\n",
       "    </tr>\n",
       "    <tr>\n",
       "      <th>7440</th>\n",
       "      <td>[3082, 3083, 3084, 3085, 3086, 3407, 3408, 340...</td>\n",
       "      <td>[589, 589, 589, 589, 589, 651, 651, 651, 651, ...</td>\n",
       "      <td>[0, 0, 0, 1, 0, 1, 0, 0, 0, 1, 1, 0, 1, 0, 1, ...</td>\n",
       "      <td>[1595372548.0, 1595372576.0, 1595372666.0, 159...</td>\n",
       "    </tr>\n",
       "    <tr>\n",
       "      <th>7441</th>\n",
       "      <td>[3427, 3428, 3429, 3430, 3431, 3432, 3588, 358...</td>\n",
       "      <td>[655, 655, 655, 655, 655, 655, 686, 686, 686, ...</td>\n",
       "      <td>[1, 0, 0, 0, 1, 0, 1, 0, 0, 0, 0, 1, 1, 1, 1, ...</td>\n",
       "      <td>[1584623602.0, 1584623606.0, 1584623609.0, 158...</td>\n",
       "    </tr>\n",
       "  </tbody>\n",
       "</table>\n",
       "<p>7442 rows × 4 columns</p>\n",
       "</div>"
      ],
      "text/plain": [
       "                                       assessmentItemID  \\\n",
       "0     [187, 188, 189, 190, 191, 197, 198, 199, 200, ...   \n",
       "1     [263, 264, 265, 266, 267, 40, 41, 42, 43, 44, ...   \n",
       "2     [3269, 3270, 3271, 3272, 3273, 3365, 3366, 336...   \n",
       "3     [3239, 3240, 3241, 3243, 3242, 3269, 3270, 327...   \n",
       "4     [3370, 3371, 3372, 3373, 3374, 3375, 3229, 323...   \n",
       "...                                                 ...   \n",
       "7437  [3452, 3453, 3454, 3455, 3456, 3457, 3469, 347...   \n",
       "7438  [79, 80, 81, 82, 83, 84, 85, 86, 95, 96, 97, 9...   \n",
       "7439  [3116, 3117, 3118, 3119, 3120, 3121, 3376, 337...   \n",
       "7440  [3082, 3083, 3084, 3085, 3086, 3407, 3408, 340...   \n",
       "7441  [3427, 3428, 3429, 3430, 3431, 3432, 3588, 358...   \n",
       "\n",
       "                                                 testId  \\\n",
       "0     [37, 37, 37, 37, 37, 39, 39, 39, 39, 39, 41, 4...   \n",
       "1     [52, 52, 52, 52, 52, 8, 8, 8, 8, 8, 10, 10, 10...   \n",
       "2     [625, 625, 625, 625, 625, 643, 643, 643, 643, ...   \n",
       "3     [619, 619, 619, 619, 619, 625, 625, 625, 625, ...   \n",
       "4     [644, 644, 644, 644, 644, 644, 617, 617, 617, ...   \n",
       "...                                                 ...   \n",
       "7437  [660, 660, 660, 660, 660, 660, 663, 663, 663, ...   \n",
       "7438  [16, 16, 16, 16, 16, 16, 16, 16, 18, 18, 18, 1...   \n",
       "7439  [595, 595, 595, 595, 595, 595, 645, 645, 645, ...   \n",
       "7440  [589, 589, 589, 589, 589, 651, 651, 651, 651, ...   \n",
       "7441  [655, 655, 655, 655, 655, 655, 686, 686, 686, ...   \n",
       "\n",
       "                                             answerCode  \\\n",
       "0     [1, 0, 1, 1, 0, 1, 1, 1, 0, 0, 1, 0, 0, 0, 0, ...   \n",
       "1     [0, 1, 1, 1, 1, 1, 0, 1, 1, 1, 0, 1, 1, 1, 1, ...   \n",
       "2     [0, 0, 0, 0, 0, 0, 0, 0, 0, 0, 1, 1, 1, 1, 0, ...   \n",
       "3     [0, 0, 0, 1, 0, 1, 1, 1, 0, 1, 1, 0, 0, 1, 1, ...   \n",
       "4     [1, 0, 0, 0, 1, 0, 1, 1, 0, 0, 0, 0, 0, 0, 0, ...   \n",
       "...                                                 ...   \n",
       "7437  [1, 1, 1, 1, 0, 0, 1, 1, 1, 1, 1, 1, 1, 0, 0, ...   \n",
       "7438  [0, 1, 1, 0, 1, 1, 1, 1, 1, 1, 1, 1, 1, 1, 1, ...   \n",
       "7439  [1, 1, 0, 1, 0, 0, 1, 0, 1, 1, 0, 0, 1, 0, 0, ...   \n",
       "7440  [0, 0, 0, 1, 0, 1, 0, 0, 0, 1, 1, 0, 1, 0, 1, ...   \n",
       "7441  [1, 0, 0, 0, 1, 0, 1, 0, 0, 0, 0, 1, 1, 1, 1, ...   \n",
       "\n",
       "                                              Timestamp  \n",
       "0     [1582836716.0, 1582839096.0, 1582839124.0, 158...  \n",
       "1     [1580686959.0, 1580687009.0, 1580687122.0, 158...  \n",
       "2     [1586743520.0, 1586743522.0, 1586743529.0, 158...  \n",
       "3     [1582326717.0, 1582326729.0, 1582326758.0, 158...  \n",
       "4     [1592511061.0, 1592511087.0, 1592511106.0, 159...  \n",
       "...                                                 ...  \n",
       "7437  [1589232795.0, 1589234016.0, 1589234023.0, 158...  \n",
       "7438  [1588633551.0, 1588633589.0, 1588633595.0, 158...  \n",
       "7439  [1581017302.0, 1581017339.0, 1581017369.0, 158...  \n",
       "7440  [1595372548.0, 1595372576.0, 1595372666.0, 159...  \n",
       "7441  [1584623602.0, 1584623606.0, 1584623609.0, 158...  \n",
       "\n",
       "[7442 rows x 4 columns]"
      ]
     },
     "execution_count": 7,
     "metadata": {},
     "output_type": "execute_result"
    }
   ],
   "source": [
    "%%time\n",
    "df.apply(sortby_timestamp, axis=1)"
   ]
  },
  {
   "cell_type": "markdown",
   "metadata": {},
   "source": [
    "## Student Answer rate"
   ]
  },
  {
   "cell_type": "code",
   "execution_count": 8,
   "metadata": {
    "ExecuteTime": {
     "end_time": "2021-02-13T08:23:16.332150Z",
     "start_time": "2021-02-13T08:23:16.161605Z"
    }
   },
   "outputs": [],
   "source": [
    "def answer_rate(lst):\n",
    "    \n",
    "    answers = np.array(lst)\n",
    "    return len(answers[answers == 1]) / len(answers)\n",
    "\n",
    "student_answer_rate = df['answerCode'].apply(answer_rate)"
   ]
  },
  {
   "cell_type": "code",
   "execution_count": 9,
   "metadata": {
    "ExecuteTime": {
     "end_time": "2021-02-13T08:23:16.348152Z",
     "start_time": "2021-02-13T08:23:16.333151Z"
    }
   },
   "outputs": [],
   "source": [
    "df['studentAnswerRate'] = student_answer_rate"
   ]
  },
  {
   "cell_type": "markdown",
   "metadata": {},
   "source": [
    "## Add Elapsed Time"
   ]
  },
  {
   "cell_type": "code",
   "execution_count": 16,
   "metadata": {
    "ExecuteTime": {
     "end_time": "2021-02-13T08:24:24.224024Z",
     "start_time": "2021-02-13T08:24:24.216998Z"
    }
   },
   "outputs": [],
   "source": [
    "def timedelta2float(td):\n",
    "    \n",
    "    res = td.microseconds/float(1000000) + (td.seconds + td.days * 24 * 3600)\n",
    "    return res\n",
    "\n",
    "def calculate_elapsed(lst):\n",
    "    \n",
    "    return [0.] + [timedelta2float(lst[i+1] - lst[i]) for i, _ in enumerate(lst[:-1])]"
   ]
  },
  {
   "cell_type": "code",
   "execution_count": 17,
   "metadata": {
    "ExecuteTime": {
     "end_time": "2021-02-13T08:24:25.749364Z",
     "start_time": "2021-02-13T08:24:24.395679Z"
    }
   },
   "outputs": [],
   "source": [
    "elapsed = df['Timestamp'].apply(calculate_elapsed)"
   ]
  },
  {
   "cell_type": "code",
   "execution_count": 19,
   "metadata": {
    "ExecuteTime": {
     "end_time": "2021-02-13T08:24:43.851785Z",
     "start_time": "2021-02-13T08:24:43.833727Z"
    }
   },
   "outputs": [],
   "source": [
    "df['Elapsed'] = elapsed"
   ]
  },
  {
   "cell_type": "markdown",
   "metadata": {},
   "source": [
    "## Check test consecutive"
   ]
  },
  {
   "cell_type": "code",
   "execution_count": 20,
   "metadata": {
    "ExecuteTime": {
     "end_time": "2021-02-13T08:24:47.188549Z",
     "start_time": "2021-02-13T08:24:47.177967Z"
    }
   },
   "outputs": [],
   "source": [
    "def test_consecutive(lst):\n",
    "    \n",
    "    return [1] + [1 if lst[i] == lst[i-1] else 0 for i in range(1, len(lst))]"
   ]
  },
  {
   "cell_type": "code",
   "execution_count": 21,
   "metadata": {
    "ExecuteTime": {
     "end_time": "2021-02-13T08:24:49.752296Z",
     "start_time": "2021-02-13T08:24:49.466279Z"
    }
   },
   "outputs": [],
   "source": [
    "consecutive = df['testId'].apply(test_consecutive)"
   ]
  },
  {
   "cell_type": "code",
   "execution_count": 22,
   "metadata": {
    "ExecuteTime": {
     "end_time": "2021-02-13T08:24:53.170711Z",
     "start_time": "2021-02-13T08:24:53.161712Z"
    }
   },
   "outputs": [],
   "source": [
    "df['testConsecutive'] = consecutive"
   ]
  },
  {
   "cell_type": "markdown",
   "metadata": {},
   "source": [
    "## Save"
   ]
  },
  {
   "cell_type": "code",
   "execution_count": 33,
   "metadata": {
    "ExecuteTime": {
     "end_time": "2021-02-13T10:00:06.064924Z",
     "start_time": "2021-02-13T10:00:06.051347Z"
    }
   },
   "outputs": [
    {
     "data": {
      "text/plain": [
       "list"
      ]
     },
     "execution_count": 33,
     "metadata": {},
     "output_type": "execute_result"
    }
   ],
   "source": [
    "type(df['assessmentItemID'][0])"
   ]
  },
  {
   "cell_type": "code",
   "execution_count": 28,
   "metadata": {
    "ExecuteTime": {
     "end_time": "2021-02-13T08:29:54.797306Z",
     "start_time": "2021-02-13T08:29:47.505011Z"
    }
   },
   "outputs": [],
   "source": [
    "df.to_csv('processed_iscream.csv', index=False)"
   ]
  },
  {
   "cell_type": "markdown",
   "metadata": {},
   "source": [
    "# Side information"
   ]
  },
  {
   "cell_type": "code",
   "execution_count": null,
   "metadata": {},
   "outputs": [],
   "source": []
  }
 ],
 "metadata": {
  "kernelspec": {
   "display_name": "Python 3",
   "language": "python",
   "name": "python3"
  },
  "language_info": {
   "codemirror_mode": {
    "name": "ipython",
    "version": 3
   },
   "file_extension": ".py",
   "mimetype": "text/x-python",
   "name": "python",
   "nbconvert_exporter": "python",
   "pygments_lexer": "ipython3",
   "version": "3.7.7"
  },
  "toc": {
   "base_numbering": 1,
   "nav_menu": {},
   "number_sections": true,
   "sideBar": true,
   "skip_h1_title": false,
   "title_cell": "Table of Contents",
   "title_sidebar": "Contents",
   "toc_cell": false,
   "toc_position": {
    "height": "calc(100% - 180px)",
    "left": "10px",
    "top": "150px",
    "width": "225px"
   },
   "toc_section_display": true,
   "toc_window_display": true
  }
 },
 "nbformat": 4,
 "nbformat_minor": 4
}
