{
 "cells": [
  {
   "cell_type": "markdown",
   "metadata": {},
   "source": [
    "# Setups"
   ]
  },
  {
   "cell_type": "markdown",
   "metadata": {},
   "source": [
    "## Import"
   ]
  },
  {
   "cell_type": "code",
   "execution_count": 1,
   "metadata": {
    "ExecuteTime": {
     "end_time": "2021-02-15T06:35:57.414609Z",
     "start_time": "2021-02-15T06:35:56.347288Z"
    }
   },
   "outputs": [],
   "source": [
    "import numpy as np\n",
    "import pandas as pd\n",
    "from itertools import chain\n",
    "from tqdm import tqdm\n",
    "\n",
    "import torch\n",
    "import torch.nn as nn\n",
    "import torch.nn.functional as F\n",
    "\n",
    "from preprocess import *"
   ]
  },
  {
   "cell_type": "markdown",
   "metadata": {},
   "source": [
    "## Load Data"
   ]
  },
  {
   "cell_type": "code",
   "execution_count": 2,
   "metadata": {
    "ExecuteTime": {
     "end_time": "2021-02-15T06:36:46.187673Z",
     "start_time": "2021-02-15T06:35:57.418584Z"
    }
   },
   "outputs": [
    {
     "name": "stdout",
     "output_type": "stream",
     "text": [
      "Wall time: 48.8 s\n"
     ]
    }
   ],
   "source": [
    "%%time\n",
    "df = Preprocess().preprocess()"
   ]
  },
  {
   "cell_type": "markdown",
   "metadata": {},
   "source": [
    "# Setups"
   ]
  },
  {
   "cell_type": "markdown",
   "metadata": {},
   "source": [
    "## Hyperparams"
   ]
  },
  {
   "cell_type": "code",
   "execution_count": 3,
   "metadata": {
    "ExecuteTime": {
     "end_time": "2021-02-15T06:36:50.318662Z",
     "start_time": "2021-02-15T06:36:50.167661Z"
    }
   },
   "outputs": [],
   "source": [
    "item_ids = list(chain(*df['assessmentItemID'].values))\n",
    "test_ids = list(chain(*df['testId'].values))"
   ]
  },
  {
   "cell_type": "code",
   "execution_count": 4,
   "metadata": {
    "ExecuteTime": {
     "end_time": "2021-02-15T06:36:50.491327Z",
     "start_time": "2021-02-15T06:36:50.375258Z"
    }
   },
   "outputs": [],
   "source": [
    "cfg = {\n",
    "    'seq_len': 128,\n",
    "    'tshold': 86400, # one day\n",
    "    'model_cfg': {\n",
    "        'num_items': len(set(item_ids)) + 1,\n",
    "        'num_tests': len(set(test_ids)) + 1,\n",
    "        'num_feats': len(df.columns),\n",
    "        'num_consec': 2 + 1,\n",
    "        'dropout': 0.1,\n",
    "        'enc_layers': 2,\n",
    "        'dec_layers': 2,\n",
    "        'hidden': 64,\n",
    "        'ff_model': 64 * 4, # hidden * 4\n",
    "        'n_heads': 64 // 32,\n",
    "        'tshold': 86400\n",
    "    }\n",
    "}"
   ]
  },
  {
   "cell_type": "code",
   "execution_count": 5,
   "metadata": {
    "ExecuteTime": {
     "end_time": "2021-02-15T06:36:50.967347Z",
     "start_time": "2021-02-15T06:36:50.853329Z"
    }
   },
   "outputs": [],
   "source": [
    "seq_len = 256\n",
    "num_items = len(set(item_ids))\n",
    "num_tests = len(set(test_ids))\n",
    "num_feats = len(df.columns)"
   ]
  },
  {
   "cell_type": "markdown",
   "metadata": {},
   "source": [
    "## Modeling"
   ]
  },
  {
   "cell_type": "markdown",
   "metadata": {},
   "source": [
    "### Chunk"
   ]
  },
  {
   "cell_type": "code",
   "execution_count": 6,
   "metadata": {
    "ExecuteTime": {
     "end_time": "2021-02-15T06:36:52.175180Z",
     "start_time": "2021-02-15T06:36:52.158180Z"
    }
   },
   "outputs": [],
   "source": [
    "split = lambda data, split_size: np.split(data[:split_size], split_size // cfg['seq_len'])\n",
    "pad = lambda row, pad_len: F.pad(torch.tensor(row), (0, pad_len), value=-1)"
   ]
  },
  {
   "cell_type": "code",
   "execution_count": 7,
   "metadata": {
    "ExecuteTime": {
     "end_time": "2021-02-15T06:36:52.506761Z",
     "start_time": "2021-02-15T06:36:52.493181Z"
    }
   },
   "outputs": [
    {
     "data": {
      "text/plain": [
       "Index(['assessmentItemID', 'testId', 'answerCode', 'Elapsed',\n",
       "       'testConsecutive'],\n",
       "      dtype='object')"
      ]
     },
     "execution_count": 7,
     "metadata": {},
     "output_type": "execute_result"
    }
   ],
   "source": [
    "df.columns"
   ]
  },
  {
   "cell_type": "markdown",
   "metadata": {},
   "source": [
    "**How to make Paddings**\n",
    "+ `item` shift by 1, pad with 0\n",
    "+ `test` shift by 1, pad with 0\n",
    "+ `answer` ... 어쩌지 ㅅㅂ 그냥 shift? -> 2로 채움 일단\n",
    "+ `Elapsed` 는 그냥 0으로 채워도 문제 없을 것...같기도함\n",
    "+ `testConsec` 얘도 문제네... -> 2로 채움 일단"
   ]
  },
  {
   "cell_type": "code",
   "execution_count": 8,
   "metadata": {
    "ExecuteTime": {
     "end_time": "2021-02-15T06:36:54.039529Z",
     "start_time": "2021-02-15T06:36:54.022530Z"
    }
   },
   "outputs": [],
   "source": [
    "def shift_value(row):\n",
    "    \n",
    "    shifted_row = []\n",
    "    for i, col in enumerate(row):\n",
    "        \n",
    "        if i in [0, 1]: # item, test        \n",
    "            col = list(map(lambda x: x+1, col))\n",
    "    \n",
    "        else: # elapsed, answer, test_consec\n",
    "            pass\n",
    "        \n",
    "        shifted_row.append(col)\n",
    "        \n",
    "    shifted_row = tuple(map(np.array, shifted_row))\n",
    "    return shifted_row"
   ]
  },
  {
   "cell_type": "code",
   "execution_count": 9,
   "metadata": {
    "ExecuteTime": {
     "end_time": "2021-02-15T06:36:54.632807Z",
     "start_time": "2021-02-15T06:36:54.590300Z"
    }
   },
   "outputs": [],
   "source": [
    "def pad(row, pad_len):\n",
    "    \n",
    "    padded_row = []\n",
    "    for i, col in enumerate(row):\n",
    "        \n",
    "        if i in [0, 1, 3]: # item, test, elapsed\n",
    "            \n",
    "            col = F.pad(torch.tensor(col), (0, pad_len), value=0).numpy()\n",
    "        \n",
    "        elif i in [2, 4]: # answer, test_consec\n",
    "            \n",
    "            col = F.pad(torch.tensor(col), (0, pad_len), value=2).numpy()\n",
    "            \n",
    "        else:\n",
    "            pass\n",
    "        \n",
    "        padded_row.append(col)\n",
    "        \n",
    "    return padded_row"
   ]
  },
  {
   "cell_type": "code",
   "execution_count": 17,
   "metadata": {
    "ExecuteTime": {
     "end_time": "2021-02-15T06:37:39.884881Z",
     "start_time": "2021-02-15T06:37:38.206276Z"
    },
    "scrolled": true
   },
   "outputs": [],
   "source": [
    "chunked_data = []\n",
    "for row in df.values:\n",
    "    \n",
    "    row = shift_value(row)    \n",
    "    \n",
    "    if len(row[0]) >= cfg['seq_len']:\n",
    "        \n",
    "        split_size = len(row[0]) - len(row[0])%cfg['seq_len']        \n",
    "        # TODO: simple and clean. Currently,,, only simple\n",
    "        chunked_data.extend(list(zip(*map(split, row, [split_size]*num_feats))))\n",
    "        \n",
    "    elif len(row[0]) < seq_len:\n",
    "        \n",
    "        pad_len = cfg['seq_len'] - len(row[0])\n",
    "        chunked_data.append(tuple(pad(row, pad_len)))\n",
    "        \n",
    "    else:\n",
    "        pass\n",
    "        \n",
    "chunked_data = pd.Series(chunked_data)"
   ]
  },
  {
   "cell_type": "markdown",
   "metadata": {},
   "source": [
    "### DataLoader"
   ]
  },
  {
   "cell_type": "code",
   "execution_count": 18,
   "metadata": {
    "ExecuteTime": {
     "end_time": "2021-02-15T06:37:41.039915Z",
     "start_time": "2021-02-15T06:37:41.021792Z"
    }
   },
   "outputs": [],
   "source": [
    "import torch\n",
    "from torch.utils.data import Dataset, DataLoader"
   ]
  },
  {
   "cell_type": "code",
   "execution_count": 19,
   "metadata": {
    "ExecuteTime": {
     "end_time": "2021-02-15T06:37:41.181688Z",
     "start_time": "2021-02-15T06:37:41.165658Z"
    }
   },
   "outputs": [],
   "source": [
    "class IscreamDataset(Dataset):\n",
    "    def __init__(self, data):\n",
    "        self.data = data\n",
    "\n",
    "    def __getitem__(self, index):\n",
    "        return tuple(torch.LongTensor(feat) for feat in self.data[index])\n",
    "    \n",
    "    def __len__(self):\n",
    "        return len(self.data)"
   ]
  },
  {
   "cell_type": "code",
   "execution_count": 20,
   "metadata": {
    "ExecuteTime": {
     "end_time": "2021-02-15T06:37:41.323389Z",
     "start_time": "2021-02-15T06:37:41.310358Z"
    }
   },
   "outputs": [],
   "source": [
    "def collate_fn_short(batch):\n",
    "    \n",
    "    batchify = lambda idx: torch.cat([b[idx].unsqueeze(1) for b in batch], dim=1)\n",
    "    return [batchify(i) for i in range(num_feats)]"
   ]
  },
  {
   "cell_type": "code",
   "execution_count": 21,
   "metadata": {
    "ExecuteTime": {
     "end_time": "2021-02-15T06:37:41.448155Z",
     "start_time": "2021-02-15T06:37:41.430157Z"
    }
   },
   "outputs": [],
   "source": [
    "pin_memory = False\n",
    "\n",
    "trainset = IscreamDataset(chunked_data)\n",
    "train_loader = DataLoader(trainset, shuffle=False,\n",
    "                          batch_size=16,\n",
    "                          drop_last=True,\n",
    "                          pin_memory=True,\n",
    "                          collate_fn=collate_fn_short)"
   ]
  },
  {
   "cell_type": "code",
   "execution_count": 22,
   "metadata": {
    "ExecuteTime": {
     "end_time": "2021-02-15T06:37:42.557928Z",
     "start_time": "2021-02-15T06:37:41.615157Z"
    }
   },
   "outputs": [],
   "source": [
    "batch = next(iter(train_loader))"
   ]
  },
  {
   "cell_type": "markdown",
   "metadata": {},
   "source": [
    "### Model"
   ]
  },
  {
   "cell_type": "code",
   "execution_count": 23,
   "metadata": {
    "ExecuteTime": {
     "end_time": "2021-02-15T06:37:47.200185Z",
     "start_time": "2021-02-15T06:37:47.181184Z"
    }
   },
   "outputs": [
    {
     "data": {
      "text/plain": [
       "device(type='cuda')"
      ]
     },
     "execution_count": 23,
     "metadata": {},
     "output_type": "execute_result"
    }
   ],
   "source": [
    "device = torch.device('cuda' if torch.cuda.is_available() else 'cpu')\n",
    "device"
   ]
  },
  {
   "cell_type": "code",
   "execution_count": 24,
   "metadata": {
    "ExecuteTime": {
     "end_time": "2021-02-15T06:37:47.436221Z",
     "start_time": "2021-02-15T06:37:47.424711Z"
    }
   },
   "outputs": [],
   "source": [
    "import torch.optim as optim\n",
    "import torch.nn as nn\n",
    "import torch.nn.utils.rnn as rnn_utils\n",
    "from torch.autograd import Variable\n",
    "\n",
    "import torch.nn.functional as F\n",
    "from torch.nn import TransformerEncoder, TransformerEncoderLayer\n",
    "from torch.nn import TransformerDecoder, TransformerDecoderLayer"
   ]
  },
  {
   "cell_type": "code",
   "execution_count": 25,
   "metadata": {
    "ExecuteTime": {
     "end_time": "2021-02-15T06:37:47.673224Z",
     "start_time": "2021-02-15T06:37:47.655253Z"
    }
   },
   "outputs": [],
   "source": [
    "from utils import PositionalEncoding, NoamOpt"
   ]
  },
  {
   "cell_type": "code",
   "execution_count": 26,
   "metadata": {
    "ExecuteTime": {
     "end_time": "2021-02-15T06:37:47.910330Z",
     "start_time": "2021-02-15T06:37:47.893332Z"
    }
   },
   "outputs": [],
   "source": [
    "class Saintplus(nn.Module):\n",
    "    '''\n",
    "    Try to Implement SAINT+\n",
    "    ENCODER::\n",
    "        + AssessmentItemID\n",
    "        + TestID\n",
    "        + Consecutive Test\n",
    "        + Positional Encoding\n",
    "        \n",
    "    DECODER::\n",
    "        + Correctness\n",
    "        + Lag Time Encoding\n",
    "        + Positional Encoding\n",
    "    '''\n",
    "    def __init__(self, cfg):\n",
    "        super(Saintplus, self).__init__()\n",
    "        \n",
    "        self.cfg = cfg\n",
    "        hidden = cfg['hidden']\n",
    "        dropout = cfg['dropout']\n",
    "        # Encoders' Embeddings\n",
    "        self.item_emb = nn.Embedding(cfg['num_items'], hidden)\n",
    "        self.test_emb = nn.Embedding(cfg['num_tests'], hidden)\n",
    "        self.cons_emb = nn.Embedding(cfg['num_consec'], hidden)\n",
    "        self.pos_enc = PositionalEncoding(hidden, dropout)\n",
    "        \n",
    "        self.dropout_1 = nn.Dropout(dropout)\n",
    "        self.dropout_2 = nn.Dropout(dropout)\n",
    "        self.dropout_3 = nn.Dropout(dropout)\n",
    "        \n",
    "        \n",
    "        # Decoders' Embeddings\n",
    "        self.ans_emb = nn.Embedding(3, hidden)\n",
    "        self.lag_emb = nn.Embedding(cfg['tshold'], hidden)\n",
    "        self.pos_dec = PositionalEncoding(hidden, dropout) \n",
    "        \n",
    "        self.dropout_4 = nn.Dropout(dropout)\n",
    "        self.dropout_5 = nn.Dropout(dropout)\n",
    "        \n",
    "        self.src_mask = None\n",
    "        self.trg_mask = None\n",
    "        self.memory_mask = None # TODO:\n",
    "        \n",
    "        self.transformer = nn.Transformer(d_model=hidden,\n",
    "                                         nhead=cfg['n_heads'],\n",
    "                                         num_encoder_layers=cfg['enc_layers'],\n",
    "                                         num_decoder_layers=cfg['dec_layers'],\n",
    "                                         dim_feedforward=cfg['ff_model'],\n",
    "                                         dropout=dropout,\n",
    "                                         activation='relu')\n",
    "        \n",
    "        self.fc_out = nn.Linear(hidden, 2)\n",
    "        self.softmax = nn.Softmax()\n",
    "        \n",
    "        \n",
    "    def generate_square_subsequent_mask(self, sz, sz1=None):\n",
    "        \n",
    "        if sz1 == None:\n",
    "            mask = torch.triu(torch.ones(sz, sz), 1)\n",
    "        else:\n",
    "            mask = torch.triu(torch.ones(sz, sz1), 1)\n",
    "            \n",
    "        return mask.masked_fill(mask==1, float('-inf'))\n",
    "\n",
    "    \n",
    "    def forward(self, item, test, ans, lag, consec):\n",
    "        \n",
    "        # Encoder Embeddings\n",
    "        src = self.dropout_1(self.item_emb(item))\n",
    "        test_emb = self.dropout_2(self.test_emb(test))\n",
    "        cons_emb = self.dropout_3(self.cons_emb(consec))\n",
    "        \n",
    "        src = torch.add(src, test_emb)\n",
    "        src = torch.add(src, cons_emb)\n",
    "        src = self.pos_enc(src)\n",
    "        \n",
    "        # Decoder Embeddings\n",
    "        trg = self.dropout_4(self.ans_emb(ans))\n",
    "        lag_emb = self.dropout_5(self.lag_emb(lag))\n",
    "        trg = torch.add(trg, lag_emb)\n",
    "        trg = self.pos_dec(trg)\n",
    "        \n",
    "        if self.trg_mask is None or self.trg_mask.size(0) != len(trg):\n",
    "            self.trg_mask = self.generate_square_subsequent_mask(len(trg)).to(trg.device)\n",
    "            \n",
    "        if self.src_mask is None or self.src_mask.size(0) != len(src):\n",
    "            self.src_mask = self.generate_square_subsequent_mask(len(src)).to(trg.device)\n",
    "            \n",
    "        if self.memory_mask is None or self.memory_mask.size(0) != len(trg) or self.memory_mask.size(1) != len(src):\n",
    "            self.memory_mask = self.generate_square_subsequent_mask(len(trg),len(src)).to(trg.device)\n",
    "        \n",
    "        output = self.transformer(src, trg,\n",
    "                                 src_mask=self.src_mask,\n",
    "                                 tgt_mask=self.trg_mask,)\n",
    "#                                  memory_mask=self.memory_mask)\n",
    "        \n",
    "        output = self.softmax(self.fc_out(output))\n",
    "        return output"
   ]
  },
  {
   "cell_type": "markdown",
   "metadata": {},
   "source": [
    "Always remember that batch consists in the following order\n",
    "+ Item   -> encoder\n",
    "+ Test   -> encoder\n",
    "+ Ans    -> decoder\n",
    "+ Lag    -> decoder\n",
    "+ Consec -> encoder"
   ]
  },
  {
   "cell_type": "code",
   "execution_count": 30,
   "metadata": {
    "ExecuteTime": {
     "end_time": "2021-02-15T06:38:12.549135Z",
     "start_time": "2021-02-15T06:38:12.487613Z"
    }
   },
   "outputs": [],
   "source": [
    "model = Saintplus(cfg['model_cfg'])\n",
    "model.to(device)\n"
   ]
  },
  {
   "cell_type": "code",
   "execution_count": 31,
   "metadata": {
    "ExecuteTime": {
     "end_time": "2021-02-15T06:38:13.179966Z",
     "start_time": "2021-02-15T06:38:13.165965Z"
    }
   },
   "outputs": [],
   "source": [
    "loss_fn = nn.BCEWithLogitsLoss()\n",
    "# optimizer = NoamOpt(cfg['model_cfg']['hidden'], 1, 4000, optim.Adam(model.parameters(), lr=0))\n",
    "optimizer = optim.Adam(model.parameters(), lr=1e-1)"
   ]
  },
  {
   "cell_type": "code",
   "execution_count": 32,
   "metadata": {
    "ExecuteTime": {
     "end_time": "2021-02-15T06:38:13.763242Z",
     "start_time": "2021-02-15T06:38:13.749243Z"
    }
   },
   "outputs": [
    {
     "data": {
      "text/plain": [
       "6467396"
      ]
     },
     "execution_count": 32,
     "metadata": {},
     "output_type": "execute_result"
    }
   ],
   "source": [
    "pytorch_total_params = sum(p.numel() for p in model.parameters() if p.requires_grad)\n",
    "pytorch_total_params"
   ]
  },
  {
   "cell_type": "code",
   "execution_count": 33,
   "metadata": {
    "ExecuteTime": {
     "end_time": "2021-02-15T06:38:14.080540Z",
     "start_time": "2021-02-15T06:38:14.070931Z"
    }
   },
   "outputs": [],
   "source": [
    "def add_shift(var, pad_value, device):\n",
    "    \n",
    "    return torch.cat([torch.LongTensor(1, var.shape[1]).fill_(pad_value).to(device), var])"
   ]
  },
  {
   "cell_type": "code",
   "execution_count": 34,
   "metadata": {
    "ExecuteTime": {
     "end_time": "2021-02-15T06:38:14.563683Z",
     "start_time": "2021-02-15T06:38:14.557667Z"
    }
   },
   "outputs": [],
   "source": []
  },
  {
   "cell_type": "code",
   "execution_count": 35,
   "metadata": {
    "ExecuteTime": {
     "end_time": "2021-02-15T06:38:15.797445Z",
     "start_time": "2021-02-15T06:38:15.758415Z"
    },
    "scrolled": true
   },
   "outputs": [
    {
     "data": {
      "text/plain": [
       "Saintplus(\n",
       "  (item_emb): Embedding(9455, 64)\n",
       "  (test_emb): Embedding(1538, 64)\n",
       "  (cons_emb): Embedding(3, 64)\n",
       "  (pos_enc): PositionalEncoding(\n",
       "    (dropout): Dropout(p=0.1, inplace=False)\n",
       "  )\n",
       "  (dropout_1): Dropout(p=0.1, inplace=False)\n",
       "  (dropout_2): Dropout(p=0.1, inplace=False)\n",
       "  (dropout_3): Dropout(p=0.1, inplace=False)\n",
       "  (ans_emb): Embedding(3, 64)\n",
       "  (lag_emb): Embedding(86400, 64)\n",
       "  (pos_dec): PositionalEncoding(\n",
       "    (dropout): Dropout(p=0.1, inplace=False)\n",
       "  )\n",
       "  (dropout_4): Dropout(p=0.1, inplace=False)\n",
       "  (dropout_5): Dropout(p=0.1, inplace=False)\n",
       "  (transformer): Transformer(\n",
       "    (encoder): TransformerEncoder(\n",
       "      (layers): ModuleList(\n",
       "        (0): TransformerEncoderLayer(\n",
       "          (self_attn): MultiheadAttention(\n",
       "            (out_proj): Linear(in_features=64, out_features=64, bias=True)\n",
       "          )\n",
       "          (linear1): Linear(in_features=64, out_features=256, bias=True)\n",
       "          (dropout): Dropout(p=0.1, inplace=False)\n",
       "          (linear2): Linear(in_features=256, out_features=64, bias=True)\n",
       "          (norm1): LayerNorm((64,), eps=1e-05, elementwise_affine=True)\n",
       "          (norm2): LayerNorm((64,), eps=1e-05, elementwise_affine=True)\n",
       "          (dropout1): Dropout(p=0.1, inplace=False)\n",
       "          (dropout2): Dropout(p=0.1, inplace=False)\n",
       "        )\n",
       "        (1): TransformerEncoderLayer(\n",
       "          (self_attn): MultiheadAttention(\n",
       "            (out_proj): Linear(in_features=64, out_features=64, bias=True)\n",
       "          )\n",
       "          (linear1): Linear(in_features=64, out_features=256, bias=True)\n",
       "          (dropout): Dropout(p=0.1, inplace=False)\n",
       "          (linear2): Linear(in_features=256, out_features=64, bias=True)\n",
       "          (norm1): LayerNorm((64,), eps=1e-05, elementwise_affine=True)\n",
       "          (norm2): LayerNorm((64,), eps=1e-05, elementwise_affine=True)\n",
       "          (dropout1): Dropout(p=0.1, inplace=False)\n",
       "          (dropout2): Dropout(p=0.1, inplace=False)\n",
       "        )\n",
       "      )\n",
       "      (norm): LayerNorm((64,), eps=1e-05, elementwise_affine=True)\n",
       "    )\n",
       "    (decoder): TransformerDecoder(\n",
       "      (layers): ModuleList(\n",
       "        (0): TransformerDecoderLayer(\n",
       "          (self_attn): MultiheadAttention(\n",
       "            (out_proj): Linear(in_features=64, out_features=64, bias=True)\n",
       "          )\n",
       "          (multihead_attn): MultiheadAttention(\n",
       "            (out_proj): Linear(in_features=64, out_features=64, bias=True)\n",
       "          )\n",
       "          (linear1): Linear(in_features=64, out_features=256, bias=True)\n",
       "          (dropout): Dropout(p=0.1, inplace=False)\n",
       "          (linear2): Linear(in_features=256, out_features=64, bias=True)\n",
       "          (norm1): LayerNorm((64,), eps=1e-05, elementwise_affine=True)\n",
       "          (norm2): LayerNorm((64,), eps=1e-05, elementwise_affine=True)\n",
       "          (norm3): LayerNorm((64,), eps=1e-05, elementwise_affine=True)\n",
       "          (dropout1): Dropout(p=0.1, inplace=False)\n",
       "          (dropout2): Dropout(p=0.1, inplace=False)\n",
       "          (dropout3): Dropout(p=0.1, inplace=False)\n",
       "        )\n",
       "        (1): TransformerDecoderLayer(\n",
       "          (self_attn): MultiheadAttention(\n",
       "            (out_proj): Linear(in_features=64, out_features=64, bias=True)\n",
       "          )\n",
       "          (multihead_attn): MultiheadAttention(\n",
       "            (out_proj): Linear(in_features=64, out_features=64, bias=True)\n",
       "          )\n",
       "          (linear1): Linear(in_features=64, out_features=256, bias=True)\n",
       "          (dropout): Dropout(p=0.1, inplace=False)\n",
       "          (linear2): Linear(in_features=256, out_features=64, bias=True)\n",
       "          (norm1): LayerNorm((64,), eps=1e-05, elementwise_affine=True)\n",
       "          (norm2): LayerNorm((64,), eps=1e-05, elementwise_affine=True)\n",
       "          (norm3): LayerNorm((64,), eps=1e-05, elementwise_affine=True)\n",
       "          (dropout1): Dropout(p=0.1, inplace=False)\n",
       "          (dropout2): Dropout(p=0.1, inplace=False)\n",
       "          (dropout3): Dropout(p=0.1, inplace=False)\n",
       "        )\n",
       "      )\n",
       "      (norm): LayerNorm((64,), eps=1e-05, elementwise_affine=True)\n",
       "    )\n",
       "  )\n",
       "  (fc_out): Linear(in_features=64, out_features=2, bias=True)\n",
       "  (softmax): Softmax(dim=None)\n",
       ")"
      ]
     },
     "execution_count": 35,
     "metadata": {},
     "output_type": "execute_result"
    }
   ],
   "source": []
  },
  {
   "cell_type": "code",
   "execution_count": null,
   "metadata": {
    "ExecuteTime": {
     "start_time": "2021-02-15T06:45:08.731Z"
    }
   },
   "outputs": [
    {
     "name": "stderr",
     "output_type": "stream",
     "text": [
      "0it [00:00, ?it/s]C:\\Users\\pha\\anaconda3\\lib\\site-packages\\ipykernel_launcher.py:97: UserWarning: Implicit dimension choice for softmax has been deprecated. Change the call to include dim=X as an argument.\n",
      "1139it [02:53,  6.56it/s]\n",
      "1it [00:00,  6.67it/s]"
     ]
    },
    {
     "name": "stdout",
     "output_type": "stream",
     "text": [
      "0.2003968253968254\n"
     ]
    },
    {
     "name": "stderr",
     "output_type": "stream",
     "text": [
      "1139it [02:53,  6.57it/s]\n",
      "1it [00:00,  6.49it/s]"
     ]
    },
    {
     "name": "stdout",
     "output_type": "stream",
     "text": [
      "0.3834325396825397\n"
     ]
    },
    {
     "name": "stderr",
     "output_type": "stream",
     "text": [
      "753it [01:54,  6.51it/s]"
     ]
    }
   ],
   "source": [
    "model.train()\n",
    "epoch_loss = 0\n",
    "answer_rates = []\n",
    "for e in range(10):\n",
    "    for i, batch in tqdm(enumerate(train_loader)):\n",
    "\n",
    "        item, test, ans, lag, consec = map(lambda x: x.to(device), batch)\n",
    "    #     item, test, ans, lag, consec = batch\n",
    "\n",
    "        ans = add_shift(ans, 2, device).to(device)\n",
    "        lag = add_shift(lag, 0, device).to(device)\n",
    "\n",
    "        optimizer.zero_grad()\n",
    "        output = model(item, test, ans[:-1, :], lag[:-1, :], consec)\n",
    "\n",
    "        idx = ans[1:, :] != 2\n",
    "        ans_logit = torch.Tensor([[0, 1] if logit else [1, 0] for logit in ans[1:, :][idx]]).to(device)\n",
    "        loss = loss_fn(output.squeeze()[idx], ans_logit.float())\n",
    "\n",
    "        loss.backward()\n",
    "\n",
    "#         torch.nn.utils.clip_grad_norm_(model.parameters(), 1.0)\n",
    "        optimizer.step()\n",
    "        \n",
    "        pred = output.squeeze()[idx]\n",
    "        true = ans[1:, :][idx]\n",
    "        correct = true.cpu().numpy() & pred.argmax(axis=1).cpu().numpy()\n",
    "        answer_rate = correct[correct == 1].shape[0] / correct.shape[0]\n",
    "        answer_rates.append(answer_rate)\n",
    "\n",
    "        epoch_loss += loss.item()\n",
    "        \n",
    "    print(answer_rate)"
   ]
  },
  {
   "cell_type": "code",
   "execution_count": 50,
   "metadata": {
    "ExecuteTime": {
     "end_time": "2021-02-15T06:42:18.712267Z",
     "start_time": "2021-02-15T06:42:18.694080Z"
    }
   },
   "outputs": [
    {
     "data": {
      "text/plain": [
       "tensor([1, 1, 1,  ..., 1, 1, 1], device='cuda:0', grad_fn=<NotImplemented>)"
      ]
     },
     "execution_count": 50,
     "metadata": {},
     "output_type": "execute_result"
    }
   ],
   "source": [
    "pred.argmax(axis=1)"
   ]
  },
  {
   "cell_type": "code",
   "execution_count": 51,
   "metadata": {
    "ExecuteTime": {
     "end_time": "2021-02-15T06:42:21.657291Z",
     "start_time": "2021-02-15T06:42:21.638280Z"
    }
   },
   "outputs": [
    {
     "data": {
      "text/plain": [
       "tensor([1, 1, 1,  ..., 0, 1, 1], device='cuda:0')"
      ]
     },
     "execution_count": 51,
     "metadata": {},
     "output_type": "execute_result"
    }
   ],
   "source": [
    "true"
   ]
  },
  {
   "cell_type": "code",
   "execution_count": 56,
   "metadata": {
    "ExecuteTime": {
     "end_time": "2021-02-15T06:43:25.987380Z",
     "start_time": "2021-02-15T06:43:25.965380Z"
    }
   },
   "outputs": [],
   "source": [
    "correct = true.cpu().numpy() & pred.argmax(axis=1).cpu().numpy()"
   ]
  },
  {
   "cell_type": "code",
   "execution_count": 58,
   "metadata": {
    "ExecuteTime": {
     "end_time": "2021-02-15T06:43:33.101506Z",
     "start_time": "2021-02-15T06:43:33.085918Z"
    }
   },
   "outputs": [
    {
     "data": {
      "text/plain": [
       "(639,)"
      ]
     },
     "execution_count": 58,
     "metadata": {},
     "output_type": "execute_result"
    }
   ],
   "source": [
    "correct[correct == 1].shape"
   ]
  },
  {
   "cell_type": "code",
   "execution_count": 59,
   "metadata": {
    "ExecuteTime": {
     "end_time": "2021-02-15T06:43:36.003247Z",
     "start_time": "2021-02-15T06:43:35.997274Z"
    }
   },
   "outputs": [
    {
     "data": {
      "text/plain": [
       "(1967,)"
      ]
     },
     "execution_count": 59,
     "metadata": {},
     "output_type": "execute_result"
    }
   ],
   "source": [
    "correct.shape"
   ]
  },
  {
   "cell_type": "code",
   "execution_count": null,
   "metadata": {},
   "outputs": [],
   "source": []
  }
 ],
 "metadata": {
  "kernelspec": {
   "display_name": "Python 3",
   "language": "python",
   "name": "python3"
  },
  "language_info": {
   "codemirror_mode": {
    "name": "ipython",
    "version": 3
   },
   "file_extension": ".py",
   "mimetype": "text/x-python",
   "name": "python",
   "nbconvert_exporter": "python",
   "pygments_lexer": "ipython3",
   "version": "3.7.7"
  },
  "toc": {
   "base_numbering": 1,
   "nav_menu": {},
   "number_sections": true,
   "sideBar": true,
   "skip_h1_title": false,
   "title_cell": "Table of Contents",
   "title_sidebar": "Contents",
   "toc_cell": false,
   "toc_position": {
    "height": "calc(100% - 180px)",
    "left": "10px",
    "top": "150px",
    "width": "165px"
   },
   "toc_section_display": true,
   "toc_window_display": true
  }
 },
 "nbformat": 4,
 "nbformat_minor": 4
}
