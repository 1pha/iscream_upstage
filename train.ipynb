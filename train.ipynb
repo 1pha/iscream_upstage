{
 "cells": [
  {
   "cell_type": "markdown",
   "metadata": {},
   "source": [
    "# Setups"
   ]
  },
  {
   "cell_type": "markdown",
   "metadata": {},
   "source": [
    "## Import"
   ]
  },
  {
   "cell_type": "code",
   "execution_count": 1,
   "metadata": {
    "ExecuteTime": {
     "end_time": "2021-02-13T11:26:54.631909Z",
     "start_time": "2021-02-13T11:26:51.692037Z"
    }
   },
   "outputs": [],
   "source": [
    "import numpy as np\n",
    "import pandas as pd\n",
    "from itertools import chain\n",
    "\n",
    "import torch\n",
    "import torch.nn as nn\n",
    "import torch.nn.functional as F\n",
    "\n",
    "from preprocess import *"
   ]
  },
  {
   "cell_type": "markdown",
   "metadata": {},
   "source": [
    "## Load Data"
   ]
  },
  {
   "cell_type": "code",
   "execution_count": 2,
   "metadata": {
    "ExecuteTime": {
     "end_time": "2021-02-13T11:27:45.218841Z",
     "start_time": "2021-02-13T11:26:54.637245Z"
    }
   },
   "outputs": [
    {
     "name": "stdout",
     "output_type": "stream",
     "text": [
      "Wall time: 50.6 s\n"
     ]
    }
   ],
   "source": [
    "%%time\n",
    "df = Preprocess().preprocess()"
   ]
  },
  {
   "cell_type": "markdown",
   "metadata": {},
   "source": [
    "# Setups"
   ]
  },
  {
   "cell_type": "markdown",
   "metadata": {},
   "source": [
    "## Hyperparams"
   ]
  },
  {
   "cell_type": "code",
   "execution_count": 3,
   "metadata": {
    "ExecuteTime": {
     "end_time": "2021-02-13T11:27:45.375893Z",
     "start_time": "2021-02-13T11:27:45.221811Z"
    }
   },
   "outputs": [],
   "source": [
    "item_ids = list(chain(*df['assessmentItemID'].values))\n",
    "test_ids = list(chain(*df['testId'].values))"
   ]
  },
  {
   "cell_type": "code",
   "execution_count": 90,
   "metadata": {
    "ExecuteTime": {
     "end_time": "2021-02-13T11:44:59.907279Z",
     "start_time": "2021-02-13T11:44:59.798279Z"
    }
   },
   "outputs": [],
   "source": [
    "seq_len = 256\n",
    "num_items = len(set(item_ids))\n",
    "num_tests = len(set(test_ids))\n",
    "num_feats = len(df.columns)"
   ]
  },
  {
   "cell_type": "markdown",
   "metadata": {},
   "source": [
    "## Modeling"
   ]
  },
  {
   "cell_type": "markdown",
   "metadata": {},
   "source": [
    "### Chunk"
   ]
  },
  {
   "cell_type": "code",
   "execution_count": 5,
   "metadata": {
    "ExecuteTime": {
     "end_time": "2021-02-13T11:28:14.654381Z",
     "start_time": "2021-02-13T11:28:14.649356Z"
    }
   },
   "outputs": [],
   "source": [
    "split = lambda data, split_size: np.split(data[:split_size], split_size // seq_len)\n",
    "pad = lambda row, pad_len: F.pad(torch.tensor(row), (0, pad_len), value=-1)"
   ]
  },
  {
   "cell_type": "code",
   "execution_count": 70,
   "metadata": {
    "ExecuteTime": {
     "end_time": "2021-02-13T11:43:08.154721Z",
     "start_time": "2021-02-13T11:43:08.135685Z"
    }
   },
   "outputs": [
    {
     "data": {
      "text/plain": [
       "Index(['assessmentItemID', 'testId', 'answerCode', 'Timestamp', 'Elapsed',\n",
       "       'testConsecutive'],\n",
       "      dtype='object')"
      ]
     },
     "execution_count": 70,
     "metadata": {},
     "output_type": "execute_result"
    }
   ],
   "source": [
    "df.columns"
   ]
  },
  {
   "cell_type": "code",
   "execution_count": 71,
   "metadata": {
    "ExecuteTime": {
     "end_time": "2021-02-13T11:43:29.379017Z",
     "start_time": "2021-02-13T11:43:27.958297Z"
    },
    "scrolled": true
   },
   "outputs": [],
   "source": [
    "chunked_data = []\n",
    "count = 0\n",
    "for row in df.values:\n",
    "    \n",
    "    row = tuple(map(np.array, row))\n",
    "    \n",
    "    if len(row[0]) >= seq_len:\n",
    "        \n",
    "        split_size = len(row[0]) - len(row[0])%seq_len        \n",
    "        # TODO: simple and clean. Currently,,, only simple\n",
    "        chunked_data.extend(list(zip(*map(split, row, [split_size]*num_feats))))\n",
    "        \n",
    "    elif len(row[0]) < seq_len:\n",
    "        \n",
    "        pad_len = seq_len - len(row[0])\n",
    "        chunked_data.append(tuple(pad(row, pad_len).numpy()))\n",
    "        \n",
    "    else:\n",
    "        pass\n",
    "        \n",
    "chunked_data = pd.Series(chunked_data)"
   ]
  },
  {
   "cell_type": "markdown",
   "metadata": {},
   "source": [
    "### DataLoader"
   ]
  },
  {
   "cell_type": "code",
   "execution_count": 83,
   "metadata": {
    "ExecuteTime": {
     "end_time": "2021-02-13T11:44:13.691387Z",
     "start_time": "2021-02-13T11:44:13.685873Z"
    }
   },
   "outputs": [],
   "source": [
    "import torch\n",
    "from torch.utils.data import Dataset, DataLoader"
   ]
  },
  {
   "cell_type": "code",
   "execution_count": 84,
   "metadata": {
    "ExecuteTime": {
     "end_time": "2021-02-13T11:44:14.378197Z",
     "start_time": "2021-02-13T11:44:14.359073Z"
    }
   },
   "outputs": [],
   "source": [
    "class IscreamDataset(Dataset):\n",
    "    def __init__(self, data):\n",
    "        self.data = data\n",
    "\n",
    "    def __getitem__(self, index):\n",
    "        return tuple(torch.LongTensor(feat) for feat in self.data[index])\n",
    "    \n",
    "    def __len__(self):\n",
    "        return len(self.data)"
   ]
  },
  {
   "cell_type": "code",
   "execution_count": 91,
   "metadata": {
    "ExecuteTime": {
     "end_time": "2021-02-13T11:45:12.845684Z",
     "start_time": "2021-02-13T11:45:12.830104Z"
    }
   },
   "outputs": [],
   "source": [
    "def collate_fn_short(batch):\n",
    "    \n",
    "    batchify = lambda idx: torch.cat([b[idx].unsqueeze(1) for b in batch], dim=1)\n",
    "    return [batchify(i) for i in range(num_feats)]"
   ]
  },
  {
   "cell_type": "code",
   "execution_count": 85,
   "metadata": {
    "ExecuteTime": {
     "end_time": "2021-02-13T11:44:19.624290Z",
     "start_time": "2021-02-13T11:44:19.613707Z"
    }
   },
   "outputs": [],
   "source": [
    "pin_memory = False\n",
    "\n",
    "trainset = IscreamDataset(chunked_data)\n",
    "train_loader = DataLoader(trainset, shuffle=False,\n",
    "                          batch_size=16,\n",
    "                          drop_last=True,)\n",
    "#                           collate_fn=collate_fn_short)"
   ]
  },
  {
   "cell_type": "code",
   "execution_count": 86,
   "metadata": {
    "ExecuteTime": {
     "end_time": "2021-02-13T11:44:21.434892Z",
     "start_time": "2021-02-13T11:44:21.429811Z"
    }
   },
   "outputs": [],
   "source": [
    "batch = next(iter(train_loader))"
   ]
  },
  {
   "cell_type": "markdown",
   "metadata": {},
   "source": [
    "### Model"
   ]
  },
  {
   "cell_type": "code",
   "execution_count": 92,
   "metadata": {
    "ExecuteTime": {
     "end_time": "2021-02-13T11:45:27.352591Z",
     "start_time": "2021-02-13T11:45:27.062846Z"
    }
   },
   "outputs": [
    {
     "data": {
      "text/plain": [
       "device(type='cuda')"
      ]
     },
     "execution_count": 92,
     "metadata": {},
     "output_type": "execute_result"
    }
   ],
   "source": [
    "device = torch.device('cuda' if torch.cuda.is_available() else 'cpu')\n",
    "device"
   ]
  },
  {
   "cell_type": "code",
   "execution_count": 94,
   "metadata": {
    "ExecuteTime": {
     "end_time": "2021-02-13T11:45:39.997396Z",
     "start_time": "2021-02-13T11:45:39.982397Z"
    }
   },
   "outputs": [],
   "source": [
    "import torch.nn as nn\n",
    "import torch.nn.utils.rnn as rnn_utils\n",
    "from torch.autograd import Variable\n",
    "\n",
    "import torch.nn.functional as F\n",
    "from torch.nn import TransformerEncoder, TransformerEncoderLayer\n",
    "from torch.nn import TransformerDecoder, TransformerDecoderLayer"
   ]
  },
  {
   "cell_type": "code",
   "execution_count": 93,
   "metadata": {
    "ExecuteTime": {
     "end_time": "2021-02-13T11:45:29.693111Z",
     "start_time": "2021-02-13T11:45:29.677588Z"
    }
   },
   "outputs": [
    {
     "ename": "ModuleNotFoundError",
     "evalue": "No module named 'src'",
     "output_type": "error",
     "traceback": [
      "\u001b[1;31m---------------------------------------------------------------------------\u001b[0m",
      "\u001b[1;31mModuleNotFoundError\u001b[0m                       Traceback (most recent call last)",
      "\u001b[1;32m<ipython-input-93-a598af82a5bc>\u001b[0m in \u001b[0;36m<module>\u001b[1;34m\u001b[0m\n\u001b[0;32m      7\u001b[0m \u001b[1;32mfrom\u001b[0m \u001b[0mtorch\u001b[0m\u001b[1;33m.\u001b[0m\u001b[0mnn\u001b[0m \u001b[1;32mimport\u001b[0m \u001b[0mTransformerDecoder\u001b[0m\u001b[1;33m,\u001b[0m \u001b[0mTransformerDecoderLayer\u001b[0m\u001b[1;33m\u001b[0m\u001b[1;33m\u001b[0m\u001b[0m\n\u001b[0;32m      8\u001b[0m \u001b[1;33m\u001b[0m\u001b[0m\n\u001b[1;32m----> 9\u001b[1;33m \u001b[1;32mfrom\u001b[0m \u001b[0msrc\u001b[0m\u001b[1;33m.\u001b[0m\u001b[0mutils\u001b[0m \u001b[1;32mimport\u001b[0m \u001b[0mPositionalEncoding\u001b[0m\u001b[1;33m,\u001b[0m \u001b[0mNoamOpt\u001b[0m\u001b[1;33m\u001b[0m\u001b[1;33m\u001b[0m\u001b[0m\n\u001b[0m",
      "\u001b[1;31mModuleNotFoundError\u001b[0m: No module named 'src'"
     ]
    }
   ],
   "source": [
    "from src.utils import PositionalEncoding, NoamOpt"
   ]
  },
  {
   "cell_type": "code",
   "execution_count": null,
   "metadata": {},
   "outputs": [],
   "source": [
    "class TransformerModel(nn.Module):\n",
    "    \n",
    "    def __init__(self, intoken, hidden, part_arr, enc_layers, dec_layers, dropout, nheads, ff_model, ts_unique=70):\n",
    "        super(TransformerModel, self).__init__()\n",
    "        \n",
    "        # Encoders' Embeddings\n",
    "        self.item_emb = nn.Embedding(num_items, hidden)\n",
    "        self.test_emb = nn.Embedding(num_tests, hidden)\n",
    "        self.ts_emb = nn.Embedding(intoken, hidden) # TODO:\n",
    "        self.elapse_emb = nn.Embedding() # TODO:\n",
    "        self.consec = nn.Embedding() # TODO:\n",
    "        \n",
    "        self.src_mask = None\n",
    "        self.trg_mask = None\n",
    "        self.memory_mask = None # TODO:\n",
    "        \n",
    "        self.pos_enc = PositionalEncoding(hidden, dropout)\n",
    "        \n",
    "        # Decoders' Embeddings\n",
    "        self.ans_emb = nn.Embedding(3, hidden)\n",
    "        self.pos_dec = PositionalEncoding(hidden, dropout)      \n",
    "        \n",
    "        self.fc_out = nn.Linear(hidden, 1)\n",
    "        \n",
    "        self.transformer = nn.Transformer(d_model=hidden,\n",
    "                                         n_head=n_heads,\n",
    "                                         num_enc_layers=enc_layers,\n",
    "                                         num_dec_layers=dec_layers,\n",
    "                                         dim_ff=ff_model,\n",
    "                                         dropout=dropout,\n",
    "                                         activation='relu')\n",
    "        \n",
    "    def generate_square_subsequent_mask(self, sz, sz1=None):\n",
    "        \n",
    "        if sz1 == None:\n",
    "            mask = torch.triu(torch.ones(sz, sz), 1)\n",
    "        else:\n",
    "            mask = torch.triu(torch.ones(sz, sz1), 1)\n",
    "            \n",
    "        return mask.masked_fill(mask==1, float('-inf'))\n",
    "\n",
    "# 'assessmentItemID', 'testId', 'answerCode', 'Timestamp', 'Elapsed','testConsecutive'\n",
    "    def forward(self, item, test, ans, ts, elapse, consec):\n",
    "        \n",
    "        if self.trg_mask is None or self.trg_mask.size(0) != len(trg):\n",
    "            self.trg_mask = self.generate_square_subsequent_mask(len(trg)).to(trg.device)\n",
    "            \n",
    "        if self.src_mask is None or self.src_mask.size(0) != len(src):\n",
    "            self.src_mask = self.generate_square_subsequent_mask(len(src)).to(trg.device)\n",
    "            \n",
    "        if self.memory_mask is None or self.memory_mask.size(0) != len(trg) or self.memory_mask.size(1) != len(src):\n",
    "            self.memory_mask = self.generate_square_subsequent_mask(len(trg),len(src)).to(trg.device)\n",
    "            \n",
    "        pass"
   ]
  }
 ],
 "metadata": {
  "kernelspec": {
   "display_name": "Python 3",
   "language": "python",
   "name": "python3"
  },
  "language_info": {
   "codemirror_mode": {
    "name": "ipython",
    "version": 3
   },
   "file_extension": ".py",
   "mimetype": "text/x-python",
   "name": "python",
   "nbconvert_exporter": "python",
   "pygments_lexer": "ipython3",
   "version": "3.7.7"
  },
  "toc": {
   "base_numbering": 1,
   "nav_menu": {},
   "number_sections": true,
   "sideBar": true,
   "skip_h1_title": false,
   "title_cell": "Table of Contents",
   "title_sidebar": "Contents",
   "toc_cell": false,
   "toc_position": {
    "height": "calc(100% - 180px)",
    "left": "10px",
    "top": "150px",
    "width": "165px"
   },
   "toc_section_display": true,
   "toc_window_display": true
  }
 },
 "nbformat": 4,
 "nbformat_minor": 4
}
